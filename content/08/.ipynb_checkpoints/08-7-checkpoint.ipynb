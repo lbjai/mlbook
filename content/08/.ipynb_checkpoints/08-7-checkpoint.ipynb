{
 "cells": [
  {
   "cell_type": "markdown",
   "metadata": {},
   "source": [
    "### 神经网络小结"
   ]
  },
  {
   "cell_type": "markdown",
   "metadata": {},
   "source": [
    "**小结一下使用神经网络时的步骤** \n",
    "\n",
    "网络结构：第一件要做的事是选择网络结构，即决定选择多少层以及决定每层分别有多少个单元。\n",
    "\n",
    "第一层的单元数即我们训练集的特征数量。     \n",
    "\n",
    "最后一层的单元数是我们训练集的结果的类的数量。     \n",
    "\n",
    "如果隐藏层数大于 1，确保每个隐藏层的单元个数相同，通常情况下隐藏层单元的个数越多越好。 \n",
    "\n",
    "我们真正要决定的是隐藏层的层数和每个中间层的单元数。 \n",
    "\n",
    "训练神经网络： \n",
    "1. 参数的随机初始化 \n",
    "2. 利用正向传播方法计算所有的 hθ(x) \n",
    "3. 编写计算代价函数 J 的代码 \n",
    "4. 利用反向传播方法计算所有偏导数 \n",
    "5. 利用数值检验方法检验这些偏导数 \n",
    "6. 使用优化算法来最小化代价函数 "
   ]
  }
 ],
 "metadata": {
  "kernelspec": {
   "display_name": "Python 3",
   "language": "python",
   "name": "python3"
  },
  "language_info": {
   "codemirror_mode": {
    "name": "ipython",
    "version": 3
   },
   "file_extension": ".py",
   "mimetype": "text/x-python",
   "name": "python",
   "nbconvert_exporter": "python",
   "pygments_lexer": "ipython3",
   "version": "3.6.7"
  }
 },
 "nbformat": 4,
 "nbformat_minor": 2
}
