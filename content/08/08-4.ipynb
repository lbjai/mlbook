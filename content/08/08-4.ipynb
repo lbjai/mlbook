{
 "cells": [
  {
   "cell_type": "markdown",
   "metadata": {},
   "source": [
    "### 实现参数展开"
   ]
  },
  {
   "cell_type": "markdown",
   "metadata": {},
   "source": [
    "+ 反向传播细节实现：把参数从矩阵展开成向量"
   ]
  },
  {
   "cell_type": "markdown",
   "metadata": {},
   "source": [
    "**展开参数** \n",
    "\n",
    "![](https://i.loli.net/2018/12/01/5c021a8b4c8d0.png)\n",
    "\n",
    "![](https://i.loli.net/2018/12/01/5c021ab008e48.png)\n",
    "\n",
    "![](https://i.loli.net/2018/12/01/5c021ac411165.png)"
   ]
  },
  {
   "cell_type": "markdown",
   "metadata": {},
   "source": [
    "**牛刀小试**\n",
    "\n",
    "**我们来实现以下参数展开**"
   ]
  },
  {
   "cell_type": "code",
   "execution_count": 1,
   "metadata": {},
   "outputs": [],
   "source": [
    "def flatten_matrix(x):\n",
    "    if not isinstance(x, type(np.array([]))):\n",
    "        x = np.array(x)\n",
    "    return x.flatten()\n"
   ]
  }
 ],
 "metadata": {
  "kernelspec": {
   "display_name": "Python 3",
   "language": "python",
   "name": "python3"
  },
  "language_info": {
   "codemirror_mode": {
    "name": "ipython",
    "version": 3
   },
   "file_extension": ".py",
   "mimetype": "text/x-python",
   "name": "python",
   "nbconvert_exporter": "python",
   "pygments_lexer": "ipython3",
   "version": "3.6.7"
  }
 },
 "nbformat": 4,
 "nbformat_minor": 2
}
