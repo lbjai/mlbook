{
 "cells": [
  {
   "cell_type": "markdown",
   "metadata": {},
   "source": [
    "### 代价函数"
   ]
  },
  {
   "cell_type": "markdown",
   "metadata": {},
   "source": [
    "**代价函数（Cost Function**\n",
    "\n",
    "上一节我们已经完成了模型构建：\n",
    "\n",
    "![](https://i.loli.net/2018/11/30/5c00c682e4350.png)\n",
    "\n",
    "\n",
    "在线性回归中我们有一个像这样的训练集，m 代表了训练样本的数量，比如 m = 47。    \n",
    "\n",
    "假设函数模型为：线性函数模型 $h_{0}(x) = \\theta_{0} + \\theta_{1}x$ 。\n",
    " \n",
    "本节要做的是为模型选择合适的**参数（parameters）** $\\theta_{0}$和 $\\theta_{1}$，在房价问题这个例子中便是直线的斜率和在 y 轴上的截距。 \n",
    "\n",
    "参数决定了得到的直线相对于我们的训练集的准确程度，模型所预测的值与训练集中实际值之间的差距（下图中蓝线所指）就是建模误差（modeling error）。\n",
    "\n",
    "![](https://i.loli.net/2018/11/29/5bfffef3551cc.png)\n",
    "\n",
    " \n",
    "我们的目标便是选择出可以使得建模的**均方误差**能够最小的模型参数。 \n",
    "\n",
    "即使得代价函数$$J(\\theta_{0}, \\theta_{1}) = \\frac{1}{2m}\\sum_{i=1}^m(h_{\\theta}(x^{(i)})-y^{(i)})^{2}$$最小。\n",
    "\n",
    "下一节我们将详细理解代价函数。"
   ]
  },
  {
   "cell_type": "markdown",
   "metadata": {},
   "source": [
    "**牛刀小试**\n",
    "\n",
    "Todo:了解一下什么是均方误差?写下你的理解。\n",
    "\n"
   ]
  },
  {
   "cell_type": "markdown",
   "metadata": {},
   "source": [
    "<span class='md-hint-alone-link pop 0'>查看答案</span>\n"
   ]
  }
 ],
 "metadata": {
  "kernelspec": {
   "display_name": "Python 3",
   "language": "python",
   "name": "python3"
  },
  "language_info": {
   "codemirror_mode": {
    "name": "ipython",
    "version": 3
   },
   "file_extension": ".py",
   "mimetype": "text/x-python",
   "name": "python",
   "nbconvert_exporter": "python",
   "pygments_lexer": "ipython3",
   "version": "3.6.7"
  }
 },
 "nbformat": 4,
 "nbformat_minor": 2
}
