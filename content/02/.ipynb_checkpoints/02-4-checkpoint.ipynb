{
 "cells": [
  {
   "cell_type": "markdown",
   "metadata": {},
   "source": [
    "### 理解代价函数 II"
   ]
  },
  {
   "cell_type": "markdown",
   "metadata": {},
   "source": [
    "**代价函数的直观理解 II -等高线**\n",
    "\n",
    "**本节强烈建议观看视频理解，以下仅列出关键步骤。**\n",
    "\n",
    "本节中，我们将结合等高线图，更深入地学习代价函数的作用。\n",
    "\n",
    "照例先给出单线性回归模型：\n",
    "hypothesis(假设):    \n",
    "         $h_{0}(x) = \\theta_{0} + \\theta_{1}x$     \n",
    "\n",
    "parameters（参数）:      \n",
    "$\\theta_{0}$ , $\\theta_{1}$    \n",
    "\n",
    "Cost Function(代价函数）:     \n",
    "$J(\\theta_{0}, \\theta_{1}) = \\frac{1}{2m}\\sum_{i=1}^m(h_{0}(x^{(i)})-y^{(i)})^{2}$\n",
    "\n",
    "Goal:     \n",
    "$minimize_{\\theta_{0},\\theta_{1}}J(\\theta_{0}, \\theta_{1})$     \n",
    "\n",
    "在上一节中，我们假设$\\theta_0=0$，仅考虑了$\\theta_1$, 得到的图像是一个弓形曲线：\n",
    "\n",
    "![](https://i.loli.net/2018/12/05/5c07dbf999eef.png)\n",
    "\n",
    "如果我们考虑$[\\theta_0, \\theta_1]$两个参数，得到的图像则如下："
   ]
  },
  {
   "cell_type": "markdown",
   "metadata": {},
   "source": [
    "\n",
    "![](https://i.loli.net/2018/12/04/5c0653fdcfe29.png)\n",
    "\n",
    "\n",
    "从代价函数的样子（等高线图）中可以看出在三维空间中存在一个使得 $J(\\theta_{0}, \\theta_{1})$最小的点。 \n",
    "\n",
    "下面为等高线图的二维图像，同一线圈上的 $J(\\theta_{0}, \\theta_{1})$取值相同。"
   ]
  },
  {
   "cell_type": "markdown",
   "metadata": {},
   "source": [
    "**理解代价函数**\n",
    "\n",
    "![](https://i.loli.net/2018/12/04/5c065398af755.png)\n",
    " \n",
    "通过这些图形，我希望你能更好地理解这些代价函数$J$所表达的值是什么样的，它们对应的假设是什么样的，以及什么样的假设对应的点，更接近于代价函数 $J$ 的最小值。 \n",
    "\n",
    "当然，我们真正需要的是一种有效的算法，能够自动地找出这些使代价函数$J$取最小值的参数 $\\theta_{0}$\n",
    "和 $\\theta_{1}$来。 \n",
    "\n",
    "我们也不希望编个程序把这些点画出来，然后人工的方法来读出这些点的数值，这很明显不是一个好办法。我们会遇到更复杂、更高维度、更多参数的情况，而这些情况是很难画出图的，因此更无法将其可视化，因此我们真正需要的是编写程序来找出这些最小化代价函数的 $\\theta_{0}$和$\\theta_{1}$的值。 \n",
    "\n",
    "在下一节视频中，我们将介绍一种算法，能够自动地找出能使代价函数$J$最小化的参数$\\theta_{0}$和$\\theta_{1}$的值。 "
   ]
  },
  {
   "cell_type": "code",
   "execution_count": null,
   "metadata": {},
   "outputs": [],
   "source": []
  }
 ],
 "metadata": {
  "kernelspec": {
   "display_name": "Python 3",
   "language": "python",
   "name": "python3"
  },
  "language_info": {
   "codemirror_mode": {
    "name": "ipython",
    "version": 3
   },
   "file_extension": ".py",
   "mimetype": "text/x-python",
   "name": "python",
   "nbconvert_exporter": "python",
   "pygments_lexer": "ipython3",
   "version": "3.6.7"
  }
 },
 "nbformat": 4,
 "nbformat_minor": 2
}
