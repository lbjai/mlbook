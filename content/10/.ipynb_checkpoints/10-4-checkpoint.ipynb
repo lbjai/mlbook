{
 "cells": [
  {
   "cell_type": "markdown",
   "metadata": {},
   "source": [
    "### 精确率和召回率的权衡"
   ]
  },
  {
   "cell_type": "markdown",
   "metadata": {},
   "source": [
    "+ 权衡查准率和查全率\n",
    "+ F1 Score\n",
    "\n",
    "**权衡查准率和查全率**\n",
    "\n",
    "沿用刚才预测肿瘤性质的例子。假使，我们的算法输出的结果在 0-1 之间，我们使用阀值 0.5 来预测真和假。\n",
    "\n",
    "![](https://i.loli.net/2018/12/01/5c02aea991704.png)\n",
    "\n",
    "\n",
    "**查准率（Precision）** = TP/（TP+FP）。    \n",
    "例：肿瘤预测中，在所有预测有恶性肿瘤的病人中，实际上有恶性肿\n",
    "瘤的病人的百分比，越高越好。\n",
    "\n",
    "**查全率（Recall）** =  TP/（TP+FN）。    \n",
    "例：肿瘤预测中，在所有实际上有恶性肿瘤的病人中，成功预测有恶性肿瘤的病人的百分比，越高越好。\n",
    "\n",
    "如果希望只在非常确信的情况下预测为真（肿瘤为恶性），即我们希望更高的查准率，我们可以使用比 0.5 更大的阀值，如 0.7，0.9。这样做我们会减少错误预测病人为恶性肿瘤的情况，同时却会增加未能成功预测肿瘤为恶性的情况。 \n",
    "\n",
    "如果我们希望提高查全率，尽可能地让所有有可能是恶性肿瘤的病人都得到进一步地检查、诊断，我们可以使用比 0.5 更小的阀值，如 0.3。"
   ]
  },
  {
   "cell_type": "markdown",
   "metadata": {},
   "source": [
    "\n",
    "![](https://i.loli.net/2018/12/01/5c02af161c236.png)\n",
    "\n",
    "**F1 Score**\n",
    "\n",
    "选择阈值的一种方法是是计算 F1 值（F1 Score），其计算公式为： \n",
    " $$F_1Score = 2\\frac{PR}{P+R}$$\n",
    "我们选择使得 F1值最高的阀值。 "
   ]
  },
  {
   "cell_type": "markdown",
   "metadata": {},
   "source": [
    "**牛刀小试**\n",
    "\n",
    "Todo: 查准率和查全率都是0.5的时候, f1score 是多少?\n",
    "\n"
   ]
  },
  {
   "cell_type": "markdown",
   "metadata": {},
   "source": [
    "答：0.5。\n"
   ]
  }
 ],
 "metadata": {
  "kernelspec": {
   "display_name": "Python 3",
   "language": "python",
   "name": "python3"
  },
  "language_info": {
   "codemirror_mode": {
    "name": "ipython",
    "version": 3
   },
   "file_extension": ".py",
   "mimetype": "text/x-python",
   "name": "python",
   "nbconvert_exporter": "python",
   "pygments_lexer": "ipython3",
   "version": "3.6.7"
  }
 },
 "nbformat": 4,
 "nbformat_minor": 2
}
