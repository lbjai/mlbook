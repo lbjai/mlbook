{
 "cells": [
  {
   "cell_type": "markdown",
   "metadata": {},
   "source": [
    "### 误差分析"
   ]
  },
  {
   "cell_type": "markdown",
   "metadata": {},
   "source": [
    "**误差分析**\n",
    "\n",
    "误差分析（error analysis）会帮助你更系统地做出决定。\n",
    "\n",
    "如果你准备研究机器学习的东西，或者构造机器学习应用程序，最好的实践方法不是建立一个非常复杂的系统，拥有多么复杂的变量；而是构建一个简单的算法，这样你可以很快地实现它。 \n",
    "\n",
    "![](http://imgbed.momodel.cn/5cc1a0b3e3067ce9b6abf75d.jpg)"
   ]
  },
  {
   "cell_type": "markdown",
   "metadata": {},
   "source": [
    "\n",
    "构建一个学习算法的推荐方法为： \n",
    "1. 从一个简单的能快速实现的算法开始，实现该算法并用交叉验证集数据测试这个算法 \n",
    "2. 绘制学习曲线，决定是增加更多数据，或者添加更多特征，还是其他选择 \n",
    "3. 进行误差分析：人工检查交叉验证集中我们算法中产生预测误差的实例，看看这些实例是否有某种系统化的趋势\n",
    "\n",
    "以我们的垃圾邮件过滤器为例：    \n",
    "误差分析要做的首先是检验交叉验证集中我们的算法产生错误预测的所有邮件，看：是否能将这些邮件按照类分组。例如医药品垃圾邮件，仿冒品垃\n",
    "圾邮件或者密码窃取邮件等。    \n",
    "然后看分类器对哪一组邮件的预测误差最大，并着手优化。 思考怎样能改进分类器。例如记录下错误拼写出现了多少次，异常的邮件路由情况出现了多少次等等，然后从出现次数最多的情况开始着手优化。 \n",
    "\n",
    "误差分析并不总能帮助我们判断应该采取怎样的行动。有时我们需要尝试不同的模型，然后进行比较，在模型比较时，用数值来判断哪一个模型更好更有效，通常我们是看交叉验\n",
    "证集的误差。 "
   ]
  },
  {
   "cell_type": "markdown",
   "metadata": {},
   "source": [
    "**牛刀小试**\n",
    "\n",
    "Todo: 我们应该在交叉验证集还是应该在测试集上来实施误差分析?\n",
    "\n"
   ]
  },
  {
   "cell_type": "markdown",
   "metadata": {},
   "source": [
    "答:交叉验证集。\n"
   ]
  }
 ],
 "metadata": {
  "kernelspec": {
   "display_name": "Python 3",
   "language": "python",
   "name": "python3"
  },
  "language_info": {
   "codemirror_mode": {
    "name": "ipython",
    "version": 3
   },
   "file_extension": ".py",
   "mimetype": "text/x-python",
   "name": "python",
   "nbconvert_exporter": "python",
   "pygments_lexer": "ipython3",
   "version": "3.6.7"
  }
 },
 "nbformat": 4,
 "nbformat_minor": 2
}
