{
 "cells": [
  {
   "cell_type": "markdown",
   "metadata": {},
   "source": [
    "### 使用高斯分布进行异常检测"
   ]
  },
  {
   "cell_type": "markdown",
   "metadata": {},
   "source": [
    "**使用多元高斯分布进行异常检测**\n",
    "\n",
    "\n",
    "使用多元高斯分布，改变参数，$\\mu$和$\\Sigma$，制定一个不同的异常检测算法。\n",
    "\n",
    "要回顾一下多元高斯分布和多元正态分布： \n",
    "\n",
    "![](https://i.loli.net/2018/12/02/5c03882b2ffd6.png)\n",
    "\n",
    "\n",
    "参数拟合/参数估计：\n",
    "\n",
    "给定数据集$x^{(1)}, x^{(2)},...,x^{(m)}$，$x^{(i)}$是一个n维向量，样本来自多元高斯分布，则：\n",
    "\n",
    "$$ 均值: \\mu_j = \\frac{1}{m}\\sum^m_{i=1}x^{(i)}_j $$\n",
    "\n",
    "$$ 协方差:  \\Sigma = \\frac{1}{m}\\sum^m_{i=1}(x^{(i)}-\\mu)(x^{(i)}-\\mu)^T=\\frac{1}{m}(X-\\mu)^T(X-\\mu)$$\n",
    "\n",
    "使用多元高斯分布进行异常检测\n",
    "\n",
    "![](https://i.loli.net/2018/12/02/5c038a04e742e.png)\n",
    "\n",
    "\n",
    "原始模型与多元高斯模型的关系如图： \n",
    "\n",
    "![](https://i.loli.net/2018/12/02/5c038aa8d4eba.png)\n",
    "\n",
    "原始模型和多元高斯分布比较如图： \n",
    "\n",
    "![](https://i.loli.net/2018/12/02/5c038a76052a8.png)"
   ]
  }
 ],
 "metadata": {
  "kernelspec": {
   "display_name": "Python 3",
   "language": "python",
   "name": "python3"
  },
  "language_info": {
   "codemirror_mode": {
    "name": "ipython",
    "version": 3
   },
   "file_extension": ".py",
   "mimetype": "text/x-python",
   "name": "python",
   "nbconvert_exporter": "python",
   "pygments_lexer": "ipython3",
   "version": "3.6.7"
  }
 },
 "nbformat": 4,
 "nbformat_minor": 2
}
