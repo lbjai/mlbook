{
 "cells": [
  {
   "cell_type": "markdown",
   "metadata": {},
   "source": [
    "### 高斯分布的异常检测算法"
   ]
  },
  {
   "cell_type": "markdown",
   "metadata": {},
   "source": [
    "**高斯分布的异常检测算法**\n",
    "\n",
    "\n",
    "对于给定的数据集$x^{(1)}, x^{(2)},...,x^{(m)}$，我们要针对每一个特征计算$\\mu$和$\\sigma^2$的估计值。\n",
    " \n",
    "$$ \\mu_j = \\frac{1}{m}\\sum^m_{i=1}x^{(i)}_j $$\n",
    "\n",
    "$$\\sigma^2_j = \\frac{1}{m}\\sum^m_{i=1}(x^{(i)}_j-\\mu_j)^2$$\n",
    "\n",
    "一旦我们获得了平均值和方差的估计值，给定新的一个训练实例，根据模型计算 $p(x)$： \n",
    "$$p(x)=\\prod_{j=1}^n p(x_j;\\mu_j,\\sigma^2_j)=\\prod_{j=1}^n \\frac{1}{\\sqrt{2\\pi}\\sigma_j}exp(-\\frac{(x_j-\\mu_j)^2}{2\\sigma^2_j})$$\n",
    "\n",
    "$$p(x)=\\prod_{j=1}^n p(x_j;\\mu_j,\\sigma^2_j)=\\prod_{j=1}^n \\frac{1}{\\sqrt{2\\pi}\\sigma_j}exp(-\\frac{(x_j-\\mu_j)^2}{2\\sigma^2_j})$$\n",
    "\n",
    "当  $p(x)<\\varepsilon$时，为异常。 \n",
    "\n",
    "下图是一个由两个特征的训练集，以及特征的分布情况：\n",
    "\n",
    "![](https://i.loli.net/2018/12/02/5c035b3886af6.png)\n",
    "\n",
    " \n",
    "下面的三维图表表示的是密度估计函数，z 轴为根据两个特征的值所估计$p(x)$值： \n",
    "\n",
    "![](https://i.loli.net/2018/12/02/5c035b660bd1e.png)\n",
    "\n",
    "我们选择一个 $\\varepsilon$，将  $p(x)=\\varepsilon$ 作为我们的判定边界，当  $p(x)>\\varepsilon$ 时预测数据为正常数据，否则为异常数据。 \n",
    "\n",
    "在这段视频中，我们介绍了如何拟合$p(x)$，也就是 x 的概率值，以开发出一种异常检测算法。同时，在这节课中，我们也给出了通过给出的数据集拟合参数，进行参数估计，得到参数$\\mu$和$\\sigma$，然后检测新的样本，确定新样本是否是异常。 "
   ]
  }
 ],
 "metadata": {
  "kernelspec": {
   "display_name": "Python 3",
   "language": "python",
   "name": "python3"
  },
  "language_info": {
   "codemirror_mode": {
    "name": "ipython",
    "version": 3
   },
   "file_extension": ".py",
   "mimetype": "text/x-python",
   "name": "python",
   "nbconvert_exporter": "python",
   "pygments_lexer": "ipython3",
   "version": "3.6.7"
  }
 },
 "nbformat": 4,
 "nbformat_minor": 2
}
