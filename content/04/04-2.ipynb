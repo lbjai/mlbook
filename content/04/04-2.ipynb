{
 "cells": [
  {
   "cell_type": "markdown",
   "metadata": {},
   "source": [
    "### 多变量梯度下降"
   ]
  },
  {
   "cell_type": "markdown",
   "metadata": {},
   "source": [
    "\n",
    "与单变量线性回归类似，在多变量线性回归中，我们也构建一个代价函数，则这个代价\n",
    "函数是所有建模误差的平方和，即： \n",
    "$$J(\\theta_{0}, \\theta_{1}...\\theta_{n}) = \\frac{1}{2m}\\sum_{i=1}^m(h_{\\theta}(x^{(i)})-y^{(i)})^{2}$$\n",
    "其中： $$h_{\\theta}(x) = \\theta^TX = \\theta_{0}x_{0} + \\theta_{1}x_{1} + \\theta_{2}x_{2} + ...  + \\theta_{n}x_{n}$$ \n",
    "我们的目标和单变量线性回归问题中一样，是要找出使得代价函数最小的一系列参数。\n",
    " \n",
    "相应地，多变量线性回归的模型如下图：\n",
    "\n",
    "![](https://i.loli.net/2018/11/30/5c00f9e8220d8.png)\n",
    "\n",
    "\n",
    "对梯度下降求导数后得到： \n",
    "\n",
    "![](https://i.loli.net/2018/11/30/5c00fb2817d22.png)\n",
    "\n",
    "\n",
    "我们开始随机选择一系列的参数值，计算所有的预测结果后，再给所有的参数一个新的值，如此循环直到收敛。 "
   ]
  },
  {
   "cell_type": "markdown",
   "metadata": {},
   "source": [
    "**牛刀小试**\n",
    "\n",
    "Todo: 实现多变量的 cost function\n"
   ]
  },
  {
   "cell_type": "code",
   "execution_count": 1,
   "metadata": {},
   "outputs": [],
   "source": [
    "# 代价函数的python代码实现\n",
    "def Cost(X, y, theta):\n",
    "    inner = np.power(((X * theta.T) - y), 2)\n",
    "    return np.sum(inner) / (2 * len(X))"
   ]
  }
 ],
 "metadata": {
  "kernelspec": {
   "display_name": "Python 3",
   "language": "python",
   "name": "python3"
  },
  "language_info": {
   "codemirror_mode": {
    "name": "ipython",
    "version": 3
   },
   "file_extension": ".py",
   "mimetype": "text/x-python",
   "name": "python",
   "nbconvert_exporter": "python",
   "pygments_lexer": "ipython3",
   "version": "3.6.7"
  }
 },
 "nbformat": 4,
 "nbformat_minor": 2
}
