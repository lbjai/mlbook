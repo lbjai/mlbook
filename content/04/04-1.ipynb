{
 "cells": [
  {
   "cell_type": "markdown",
   "metadata": {},
   "source": [
    "### 多变量线性回归"
   ]
  },
  {
   "cell_type": "markdown",
   "metadata": {},
   "source": [
    "+ 引入多种特征后的假设h模型\n",
    "\n",
    "对于（面积，价格）的房价模型，现在我们对房价模型增加更多的特征 (房间数量, 楼层数量, 房屋年龄)：\n",
    "\n",
    "![](http://imgbed.momodel.cn/5cc1a0b2e3067ce9b6abf759.jpg)\n",
    "\n",
    "增添更多特征后，我们引入一系列新的注释： \n",
    "\n",
    "![](https://i.loli.net/2018/11/30/5c00f5617e837.png)\n",
    "\n",
    "如上图的 \n",
    "$x^{(2)} = \\begin{bmatrix} 1416 \\\\ 3 \\\\ 2 \\\\ 40 \\end{bmatrix}$，表示第2个训练实例。\n",
    "\n",
    "其中，$x^{(i)_j}$ 代表特征矩阵中第 i 行的第 j 个特征，也就是第 i 个训练实例的第 j 个特征。如 $x^{(2)}_2 = 3$。\n",
    "\n",
    "支持多变量的假设 $h$ 表示为: $$h_{\\theta}(x) = \\theta_{0} + \\theta_{1}x_{1} + \\theta_{2}x_{2} + ... + \\theta_{n}x_{n}$$\n",
    "\n",
    "![](http://imgbed.momodel.cn/5cc1a0b2e3067ce9b6abf758.jpg)\n",
    "\n",
    "\n",
    "为方便表示，引入 $x_{0} = 1$，则公式转化为： $$h_{\\theta}(x) = \\theta_{0}x_{0} + \\theta_{1}x_{1} + \\theta_{2}x_{2} + ...  + \\theta_{n}x_{n}$$\n",
    "此时模型中的参数是一个 n+1 维的向量，任何一个训练实例也都是 n+1 维的向量，特征矩阵 X 的维度是 m*(n+1)。 因此公式可以简化为： $$h_{\\theta}(x) = \\theta^TX$$ 其中上标 T 代表矩阵转置。 "
   ]
  },
  {
   "cell_type": "markdown",
   "metadata": {},
   "source": [
    "**牛刀小试**"
   ]
  },
  {
   "cell_type": "markdown",
   "metadata": {},
   "source": [
    "如果我们有 5 个特征,那么使用多项式回归, 我们有多少个 ${\\theta}$ 参数?\n"
   ]
  },
  {
   "cell_type": "markdown",
   "metadata": {},
   "source": [
    "答：6个\n"
   ]
  }
 ],
 "metadata": {
  "kernelspec": {
   "display_name": "Python 3",
   "language": "python",
   "name": "python3"
  },
  "language_info": {
   "codemirror_mode": {
    "name": "ipython",
    "version": 3
   },
   "file_extension": ".py",
   "mimetype": "text/x-python",
   "name": "python",
   "nbconvert_exporter": "python",
   "pygments_lexer": "ipython3",
   "version": "3.6.7"
  }
 },
 "nbformat": 4,
 "nbformat_minor": 2
}
