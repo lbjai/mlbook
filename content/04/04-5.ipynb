{
 "cells": [
  {
   "cell_type": "markdown",
   "metadata": {},
   "source": [
    "### 特征与多项式回归"
   ]
  },
  {
   "cell_type": "markdown",
   "metadata": {},
   "source": [
    "+  多项式回归\n",
    "\n",
    "\n",
    "在房价预测问题中， 假设我们的特征数据为$x_1=frontage（临街宽度）$，$x_2=depth（纵向深度）$。\n",
    "\n",
    "![](https://i.loli.net/2018/11/30/5c01013730fe3.png)\n",
    " \n",
    "线性回归建模为：$$h_ \\theta(x) =  \\theta_0 +  \\theta_1 \\times frontage +  \\theta_2 \\times depth$$\n",
    "\n",
    "但是我们可以自己创建一个特征 $x = Area(面积) = frontage \\times depth$    \n",
    "再进行建模：$$h_ \\theta(x) =  \\theta_0 +  \\theta_1 \\times Area $$  效果会好很多。 \n",
    "\n",
    "\n",
    "线性回归并不适用于所有数据，有时我们需要曲线来适应我们的数据，比如一个二次方模型： \n",
    "$$h_ \\theta(x) =  \\theta_0 +  \\theta_1 x_1 +  \\theta_2 x^2_2$$\n",
    "或者三次方模型：\n",
    "$$h_ \\theta(x) =  \\theta_0 +  \\theta_1 x_1 +  \\theta_2 x^2_2 + \\theta_3 x^3_3$$\n",
    " "
   ]
  },
  {
   "cell_type": "markdown",
   "metadata": {},
   "source": [
    "\n",
    "![](https://i.loli.net/2018/11/30/5c01033105cf6.png) \n",
    "\n",
    "\n",
    "通常我们需要先观察数据然后再决定准备尝试怎样的模型。 另外，我们可以令： \n",
    " $$x_2 = (size)^2$$\n",
    " $$x_3 = (size)^3$$\n",
    "从而将模型转化为线性回归模型。 \n",
    "\n",
    "根据函数图形特性，我们还可以使用： \n",
    "$$h_ \\theta(x) =  \\theta_0 +  \\theta_1(size) +  \\theta_2(size)^2$$\n",
    "或者： \n",
    "$$h_ \\theta(x) =  \\theta_0 +  \\theta_1(size) +  \\theta_2\\sqrt{(size)}$$ \n",
    "\n",
    "**注：如果我们采用多项式回归模型，在运行梯度下降算法前，特征缩放非常有必要。因为幂运算很容易拉大特征之间尺度的差距** "
   ]
  },
  {
   "cell_type": "markdown",
   "metadata": {},
   "source": [
    "**牛刀小试**\n",
    "\n",
    "Todo:  观察二次方模型和三次方模型拟合曲线的差异,思考,n 次方模型的 n 越大越好吗?\n"
   ]
  },
  {
   "cell_type": "markdown",
   "metadata": {},
   "source": [
    "答：不是的, 合理的选择 n 非常重要。\n"
   ]
  }
 ],
 "metadata": {
  "kernelspec": {
   "display_name": "Python 3",
   "language": "python",
   "name": "python3"
  },
  "language_info": {
   "codemirror_mode": {
    "name": "ipython",
    "version": 3
   },
   "file_extension": ".py",
   "mimetype": "text/x-python",
   "name": "python",
   "nbconvert_exporter": "python",
   "pygments_lexer": "ipython3",
   "version": "3.6.7"
  }
 },
 "nbformat": 4,
 "nbformat_minor": 2
}
