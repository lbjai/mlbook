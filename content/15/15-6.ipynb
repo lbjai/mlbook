{
 "cells": [
  {
   "cell_type": "markdown",
   "metadata": {},
   "source": [
    "### 平均标准化的实现细节"
   ]
  },
  {
   "cell_type": "markdown",
   "metadata": {},
   "source": [
    "**均值归一化**  \n",
    "\n",
    "让我们来看下面的用户评分数据： \n",
    " \n",
    " ![](https://i.loli.net/2018/12/02/5c0318405284d.png)\n",
    " \n",
    "如果我们新增一个用户 Eve，并且 Eve 没有为任何电影评分，那么我们以什么为依据为 Eve 推荐电影呢？ \n",
    "\n",
    "我们首先需要对结果 Y 矩阵进行均值归一化处理，将每一个用户对某一部电影的评分减去所有 用户对该电影评分的平均值： \n",
    "\n",
    " ![](https://i.loli.net/2018/12/02/5c031876a7b0b.png)\n",
    " \n",
    "然后我们利用这个新的 Y 矩阵来训练算法。 \n",
    "\n",
    "如果我们要用新训练出的算法来预测评分，则需要将平均值重新加回去，预测$(\\theta^{(j)})^Tx^{(i)}+ \\mu_i$ ，对于 Eve，我们的新模型会认为她给每部电影的评分都是该电影的平均分。\n",
    "\n",
    "> 均值归一化 用于处理新用户或者新物品冷启动问题"
   ]
  }
 ],
 "metadata": {
  "kernelspec": {
   "display_name": "Python 3",
   "language": "python",
   "name": "python3"
  },
  "language_info": {
   "codemirror_mode": {
    "name": "ipython",
    "version": 3
   },
   "file_extension": ".py",
   "mimetype": "text/x-python",
   "name": "python",
   "nbconvert_exporter": "python",
   "pygments_lexer": "ipython3",
   "version": "3.6.7"
  }
 },
 "nbformat": 4,
 "nbformat_minor": 2
}
