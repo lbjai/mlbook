{
 "cells": [
  {
   "cell_type": "markdown",
   "metadata": {},
   "source": [
    "### 协同过滤算法"
   ]
  },
  {
   "cell_type": "markdown",
   "metadata": {},
   "source": [
    "协同过滤优化目标： \n",
    "\n",
    "![](https://i.loli.net/2018/12/02/5c03158093bfd.png)"
   ]
  },
  {
   "cell_type": "markdown",
   "metadata": {},
   "source": [
    "**协同过滤的步骤**  \n",
    "\n",
    "1. 初始化 $x^{(1)},...,x^{(n_m)},\\theta^{(1)},...,\\theta^{(n_m)}$为一些随机小值 \n",
    "2. 使用梯度下降算法最小化代价函数 \n",
    "3. 在训练完算法后，我们预测$(\\theta^{(j)})^Tx^{(i)}$为用户 j 给电影 i 的评分 \n",
    "\n",
    "通过这个学习过程获得的特征矩阵包含了有关电影的重要数据，这些数据不总是人能读懂的，但是我们可以用这些数据作为给用户推荐电影的依据。 \n",
    "\n",
    "例如，如果一位用户正在观看电影$x^{(i)}$，我们可以寻找另一部电影 $x^{(j)}$，依据两部电影的特征向量之间的距离 $||x^{(i)}-x^{(j)}||$的大小。 "
   ]
  }
 ],
 "metadata": {
  "kernelspec": {
   "display_name": "Python 3",
   "language": "python",
   "name": "python3"
  },
  "language_info": {
   "codemirror_mode": {
    "name": "ipython",
    "version": 3
   },
   "file_extension": ".py",
   "mimetype": "text/x-python",
   "name": "python",
   "nbconvert_exporter": "python",
   "pygments_lexer": "ipython3",
   "version": "3.6.7"
  }
 },
 "nbformat": 4,
 "nbformat_minor": 2
}
