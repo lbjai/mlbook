{
 "cells": [
  {
   "cell_type": "markdown",
   "metadata": {},
   "source": [
    "### 将问题公式化"
   ]
  },
  {
   "cell_type": "markdown",
   "metadata": {},
   "source": [
    "+ 讨论推荐系统的原因\n",
    "+ 定义推荐系统问题"
   ]
  },
  {
   "cell_type": "markdown",
   "metadata": {},
   "source": [
    "**讨论推荐系统的原因** \n",
    "\n",
    "1. 它是机器学习中的一个重要的应用，工业界非常重视，但是在学术界它占了很小的份额，很少受到关注。\n",
    "2. 学习机器学习中的大思想，特征学习的思想。\n"
   ]
  },
  {
   "cell_type": "markdown",
   "metadata": {},
   "source": [
    "**定义推荐系统问题**  \n",
    "\n",
    "假使我们是一个电影供应商，我们有 5 部电影和 4 个用户，我们要求用户为电影打分。\n",
    " \n",
    " ![](https://i.loli.net/2018/12/02/5c030db45ff1d.png)\n",
    " \n",
    "前三部电影是爱情片，后两部则是动作片，我们可以看出 Alice 和 Bob 似乎更倾向与爱情片， 而 Carol 和 Dave 似乎更倾向与动作片。并且没有一个用户给所有的电影都打过分。我们希望构建一个算法来预测他们每个人可能会给他们没看过的电影打多少分，并以此作为推荐的依据。 \n",
    "\n",
    "下面引入一些标记： \n",
    "+ $n_u$ 代表用户的数量 \n",
    "+ $n_m$ 代表电影的数量 \n",
    "+ $r(i,j)$: 如果用户j给电影i评过分,则$r(i,j) =1$\n",
    "+ $y^(i,j)$ 代表用户 j 给电影 i 的评分 \n",
    "+ $m_j$ 代表用户 j 评过分的电影的总数 "
   ]
  }
 ],
 "metadata": {
  "kernelspec": {
   "display_name": "Python 3",
   "language": "python",
   "name": "python3"
  },
  "language_info": {
   "codemirror_mode": {
    "name": "ipython",
    "version": 3
   },
   "file_extension": ".py",
   "mimetype": "text/x-python",
   "name": "python",
   "nbconvert_exporter": "python",
   "pygments_lexer": "ipython3",
   "version": "3.6.7"
  }
 },
 "nbformat": 4,
 "nbformat_minor": 2
}
