{
 "cells": [
  {
   "cell_type": "markdown",
   "metadata": {},
   "source": [
    "### 协同过滤"
   ]
  },
  {
   "cell_type": "markdown",
   "metadata": {},
   "source": [
    "在之前的基于内容的推荐系统中，对于每一部电影，我们都掌握了可用的特征，使用这些特征训练出了每一个用户的参数。相反地，如果我们拥有用户的参数，我们可以学习得出电影的特征。\n",
    "$$\\min_{x^{(1)},...,x^{(n_m)}}\\frac{1}{2}\\sum^{n_u}_{j=1}\\sum_{i:r(i,j) =1}((\\theta^{(j)})^Tx^{(i)} - y^{(i,j)})^2 + \\frac{\\lambda}{2}\\sum^{n_u}_{j=1}\\sum^{n}_{k=1}(\\theta^{(j)}_k)^2$$\n",
    "如果我们既没有用户的参数，也没有电影的特征，这两种方法都不可行了。协同过滤算法可以同时学习这两者。 \n",
    "\n",
    "我们的优化目标便改为同时针对x和$\\theta$进行。 \n",
    "$$J(x^{(1)},...,x^{(n_m)},\\theta^{(1)},...,\\theta^{(n_m)})= \\frac{1}{2}\\sum_{(i,j):r(i,j) =1}((\\theta^{(j)})^Tx^{(i)} - y^{(i,j)})^2+ \\frac{\\lambda}{2}\\sum^{n_m}_{i=1}\\sum^{n}_{k=1}(x^{(i)}_k)^2 + \\frac{\\lambda}{2}\\sum^{n_u}_{j=1}\\sum^{n}_{k=1}(\\theta^{(j)}_k)^2$$\n",
    "\n",
    "对代价函数求偏导数的结果如下："
   ]
  },
  {
   "cell_type": "markdown",
   "metadata": {},
   "source": [
    "$$x^{(i)}_k := x^{(i)}_k-\\alpha(\\sum_{j:r(i,j)=1}((\\theta^{(j)})^Tx^{(i)}-j^{(i,j)})\\theta^{(j)}_k + \\lambda x^{(i)}_k)$$\n",
    "\n",
    "$$\\theta^{(i)}_k := \\theta^{(i)}_k-\\alpha(\\sum_{j:r(i,j)=1}((\\theta^{(j)})^Tx^{(i)}-j^{(i,j)})x^{(j)}_k + \\lambda \\theta^{(i)}_k)$$"
   ]
  }
 ],
 "metadata": {
  "kernelspec": {
   "display_name": "Python 3",
   "language": "python",
   "name": "python3"
  },
  "language_info": {
   "codemirror_mode": {
    "name": "ipython",
    "version": 3
   },
   "file_extension": ".py",
   "mimetype": "text/x-python",
   "name": "python",
   "nbconvert_exporter": "python",
   "pygments_lexer": "ipython3",
   "version": "3.6.7"
  }
 },
 "nbformat": 4,
 "nbformat_minor": 2
}
