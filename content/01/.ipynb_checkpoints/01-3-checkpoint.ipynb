{
 "cells": [
  {
   "cell_type": "markdown",
   "metadata": {},
   "source": [
    "### 什么是机器学习"
   ]
  },
  {
   "cell_type": "markdown",
   "metadata": {},
   "source": [
    "**这一节我们主要学习**\n",
    "\n",
    "+ 尝试定义机器学习\n",
    "+ 何时会使用机器学习"
   ]
  },
  {
   "cell_type": "markdown",
   "metadata": {},
   "source": [
    "**欢迎来到机器学习**\n",
    "\n",
    "+ 第一个机器学习的定义来自于 Arthur Samuel。他定义机器学习为\n",
    ">在进行特定编程的情况下，给予计算机学习能力的领域。"
   ]
  },
  {
   "cell_type": "markdown",
   "metadata": {},
   "source": [
    "**Arthur Samuel的西洋棋实验**     \n",
    "\n",
    "![](https://i.loli.net/2018/11/29/5bffdd2e18d54.png)\n",
    "\n",
    "+ 近一些的定义由 卡内基梅隆大学 的 Tom Mitchell 提出，一个好的学习问题定义如下，\n",
    "\n",
    "> 一个程序被认为能从经验 E 中学习，解决任务T，达到性能度量值P，当且仅当，有了经验 E 后，经过 P 评判，程序在处理 T 时的性能有所提升。"
   ]
  },
  {
   "cell_type": "markdown",
   "metadata": {},
   "source": [
    "**下面我们一起来完成吴恩达教授提出的问题**\n",
    "\n",
    "**1.以下哪一项是垃圾邮件辨别系统的任务**\n",
    "\n",
    "<img src='https://i.loli.net/2018/11/29/5bffddb2da07f.png' width=884 height=488 >"
   ]
  },
  {
   "cell_type": "markdown",
   "metadata": {},
   "source": [
    "<span class='md-hint-alone-link pop 0'>查看答案</span>"
   ]
  },
  {
   "cell_type": "markdown",
   "metadata": {},
   "source": [
    "#### 何时会使用机器学习\n",
    "\n",
    "**术业有专攻, 我们需要对算法进行分类, 才能在不同的场景使用正确的算法去解决问题**\n",
    "\n",
    "**学习算法可以有以下几种分类</span>**\n",
    "\n",
    "+ 监督学习\n",
    "+ 无监督学习\n",
    "+ 强化学习\n",
    "\n",
    "**最重要的是知道如何使用这些机器学习算法的，了解如何设计和构建机器学习和人工智能系统**"
   ]
  },
  {
   "cell_type": "code",
   "execution_count": null,
   "metadata": {},
   "outputs": [],
   "source": []
  }
 ],
 "metadata": {
  "kernelspec": {
   "display_name": "Python 3",
   "language": "python",
   "name": "python3"
  },
  "language_info": {
   "codemirror_mode": {
    "name": "ipython",
    "version": 3
   },
   "file_extension": ".py",
   "mimetype": "text/x-python",
   "name": "python",
   "nbconvert_exporter": "python",
   "pygments_lexer": "ipython3",
   "version": "3.6.7"
  }
 },
 "nbformat": 4,
 "nbformat_minor": 2
}
