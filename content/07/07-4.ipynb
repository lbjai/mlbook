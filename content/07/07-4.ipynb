{
 "cells": [
  {
   "cell_type": "markdown",
   "metadata": {},
   "source": [
    "### 模型表示 II "
   ]
  },
  {
   "cell_type": "markdown",
   "metadata": {},
   "source": [
    "**大脑中的神经网络是怎样的？** \n",
    "\n",
    "前向传播算法( FORWARD PROPAGATION ) 相对于与使用循环来编码，利用向量化的方法会使得计算更为简便。\n",
    "\n",
    "以上面的神经网络为例，试着计算第二层的值： \n",
    " \n",
    "![](https://i.loli.net/2018/12/01/5c01f6ff18d9f.png)\n",
    "\n",
    "![](https://i.loli.net/2018/12/01/5c01f716160d8.png)\n",
    "\n",
    "我们令 $z^{(2)}=\\theta^{(1)}x$，则 $a^{(2)}=g(z^{(2)})$，计算后添加$a^{(2)}_0=1$。 计算输出的值为： \n",
    " \n",
    "![](https://i.loli.net/2018/12/01/5c01f738adf7e.png)\n",
    " \n",
    "我们令 $z^{(3)}=\\theta^{(2)}a^{(2)}$，则 $h_\\theta(x)=a^{(3)}=g(z^{(3)})$。 \n",
    "\n",
    "这只是针对训练集中一个训练实例所进行的计算。如果我们要对整个训练集进行计算，我们需要将训练集特征矩阵进行转置，使得同一个实例的特征都在同一列里。即： \n",
    "$$z^{(2)}=\\theta^{(1)}\\times{X^T}$$\n",
    "$$a^{(2)} = g(z^{(2)})$$\n",
    "\n",
    "为了更好了了解 Neuron Networks 的工作原理，我们先把左半部分遮住： \n",
    "\n",
    "![](https://i.loli.net/2018/12/01/5c01f8d4b59d6.png)\n",
    "\n",
    "右半部分其实就是以$a_0, a_1, a_2, a_3$,按照 Logistic Regression 的方式输出$h_\\theta(x)$： \n",
    "\n",
    "![](https://i.loli.net/2018/12/01/5c0200123dd4a.png)\n",
    " \n",
    "我们可以把$a_0, a_1, a_2, a_3$看成更为高级的特征值，也就是$x_0, x_1, x_2, x_3$的进化体，并且它们是由 x 与$\\theta$决定的，因为是梯度下降的，所以 a 是变化的，并且变得越来越厉害，所以\n",
    "这些更高级的特征值远比仅仅将 x 次方厉害，也能更好的预测新数据。 \n",
    "这就是神经网络相比于逻辑回归和线性回归的优势。"
   ]
  },
  {
   "cell_type": "markdown",
   "metadata": {},
   "source": [
    "**牛刀小试**\n",
    "\n",
    " <img src='https://i.loli.net/2018/12/01/5c01f2d2b8ac5.png' width=50% height=50%>\n",
    "\n",
    "**我们假设没有激活函数**"
   ]
  },
  {
   "cell_type": "code",
   "execution_count": 1,
   "metadata": {},
   "outputs": [],
   "source": [
    "# todo 实现上图绘制的神经网络, 我们可以采用 np.random.uniform(size=())去随机生成参数\n",
    "import numpy as np\n",
    "\n",
    "def sigmoid(x):\n",
    "    return 1/(1+np.exp(-x))\n",
    "\n",
    "def net():\n",
    "    # todo 确定输入和权重的维度\n",
    "    X = np.array([[1],[-2],[3],[-4]])\n",
    "    theta1 = np.random.uniform(size=(3, 4))\n",
    "    hidden_input = sigmoid(np.matmul(theta1,X))\n",
    "    print('hidden_input',hidden_input)\n",
    "    hidden_input = np.insert(hidden_input, 0, [1], axis=0)\n",
    "    print('hidden_input',hidden_input)\n",
    "    theta2 = np.random.uniform(size=(1, 4))\n",
    "    output = sigmoid(np.matmul( theta2,hidden_input))\n",
    "    return output\n"
   ]
  }
 ],
 "metadata": {
  "kernelspec": {
   "display_name": "Python 3",
   "language": "python",
   "name": "python3"
  },
  "language_info": {
   "codemirror_mode": {
    "name": "ipython",
    "version": 3
   },
   "file_extension": ".py",
   "mimetype": "text/x-python",
   "name": "python",
   "nbconvert_exporter": "python",
   "pygments_lexer": "ipython3",
   "version": "3.6.7"
  }
 },
 "nbformat": 4,
 "nbformat_minor": 2
}
