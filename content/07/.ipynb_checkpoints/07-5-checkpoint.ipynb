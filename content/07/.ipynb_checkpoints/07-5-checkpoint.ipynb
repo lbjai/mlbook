{
 "cells": [
  {
   "cell_type": "markdown",
   "metadata": {},
   "source": [
    "### 模型表示实例 I"
   ]
  },
  {
   "cell_type": "markdown",
   "metadata": {},
   "source": [
    "\n",
    "+ 神经网络的样例与直观理解\n",
    "+ 单层神经元表示逻辑运算: 逻辑与（AND）、逻辑或（OR）"
   ]
  },
  {
   "cell_type": "markdown",
   "metadata": {},
   "source": [
    "**神经网络的直观理解** \n",
    "\n",
    "从本质上讲，神经网络能够通过学习得出其自身的一系列特征。\n",
    "\n",
    "在普通的逻辑回归中，我们被限制为使用数据中的原始特征$x_0, x_1, x_2, x_3$我们虽然可以使用一些二项式项来组合这些特征，但是我们仍然受到这些原始特征的限制。\n",
    "\n",
    "在神经网络中，原始特征只是输入层，在我们上面三层的神经网络例子中，第三层也就是输出层做出的预测利用的是第二层的特征，而非输入层中的原始特征，我们可以认为第二层中的特征是神经网络通过学习后自己得出的一系列用于预测输出变量的新特征。 \n",
    "\n",
    "神经网络中，单层神经元（无中间层）的计算可用来表示逻辑运算，比如逻辑与（AND）、逻辑或（OR）。 \n"
   ]
  },
  {
   "cell_type": "markdown",
   "metadata": {},
   "source": [
    "**逻辑与（AND)</span>**     \n",
    "\n",
    "我们可以用这样的一个神经网络表示 AND 函数： 假设输入$x_1,x_2 \\in {{0,1}}$\n",
    "\n",
    "![](https://i.loli.net/2018/12/01/5c02010c8316e.png)\n",
    "\n",
    "\n",
    "其中 $\\theta_0 = -30$, $\\theta_1 = 20$, $\\theta_2 = 20$\n",
    "输出函数 $h_\\theta(x)$即为：$h_\\theta(x)=g(-30 + 20x_1 + 20x_2)$\n",
    "\n",
    "g(x)的图像是：\n",
    "\n",
    "![](https://i.loli.net/2018/12/01/5c0201e951df7.png)\n",
    "\n",
    "\n",
    " \n",
    " 那么，$x_1,x_2$一共四种可能取值，得到的结果分别如下：\n",
    " \n",
    "![](https://i.loli.net/2018/12/01/5c02022294aa9.png)\n",
    "\n",
    "所以我们的： $h_\\theta(x) \\approx x_1 AND x_2$。\n",
    "\n",
    "逻辑或（OR） 与 AND 整体一样，区别只在于权值的取值不同。"
   ]
  },
  {
   "cell_type": "markdown",
   "metadata": {},
   "source": [
    "**牛刀小试**\n",
    "\n",
    "我们来实现一个单层网络(感知机)."
   ]
  },
  {
   "cell_type": "code",
   "execution_count": 1,
   "metadata": {},
   "outputs": [],
   "source": [
    "# todo 实现与网络\n",
    "\n",
    "import numpy as np\n",
    "\n",
    "def sigmoid(x):\n",
    "    return 1/(1+np.exp(-x))\n",
    "\n",
    "class Net():\n",
    "    def __init__(self,theta):\n",
    "        self.theta=theta\n",
    "    def run(self,X):   \n",
    "        output = sigmoid(np.matmul(self.theta,X))\n",
    "        return output\n",
    "\n",
    "net = Net(np.array([[-30,20,20]]))\n",
    "    \n"
   ]
  }
 ],
 "metadata": {
  "kernelspec": {
   "display_name": "Python 3",
   "language": "python",
   "name": "python3"
  },
  "language_info": {
   "codemirror_mode": {
    "name": "ipython",
    "version": 3
   },
   "file_extension": ".py",
   "mimetype": "text/x-python",
   "name": "python",
   "nbconvert_exporter": "python",
   "pygments_lexer": "ipython3",
   "version": "3.6.7"
  }
 },
 "nbformat": 4,
 "nbformat_minor": 2
}
