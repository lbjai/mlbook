{
 "cells": [
  {
   "cell_type": "markdown",
   "metadata": {},
   "source": [
    "### 压缩表示重建"
   ]
  },
  {
   "cell_type": "markdown",
   "metadata": {},
   "source": [
    " 给定的$z^{(i)}$，这可能 100 维，怎么回到你原来的表示$x^{(i)}$，这可能是 1000 维的数组？ \n",
    "\n",
    "![](https://i.loli.net/2018/12/02/5c02d5c204ae7.png)\n",
    "\n",
    "PCA 算法，有一个这样的样本。如图中样本 $x^{(1)}$,$x^{(2)}$。我们把这些样本投射到图中这个一维平面。然后现在我们需要只使用一个实数，比如 $Z^{(1)}$，指定这些点的位置后他们被投射到这一个三维曲面。给定一个点$z^{(1)}$，我们怎么能回去这个原始的二维空间呢？x 为 2 维，z 为 1 维， \n",
    "$z = U^T_{reduce}x$，相反的方程为：$x_{appox}=U_{reduce}z, x_{appox}\\approx x$。如图： \n",
    "\n",
    "![](https://i.loli.net/2018/12/02/5c02d69f96c5b.png)\n",
    " \n",
    "这是一个漂亮的与原始数据相当相似。所以，这就是你从低维表示 z 回到未压缩的表示。我们得到的数据的一个之间你的原始数据 x，我们也把这个过程称为重建原始数据。"
   ]
  }
 ],
 "metadata": {
  "kernelspec": {
   "display_name": "Python 3",
   "language": "python",
   "name": "python3"
  },
  "language_info": {
   "codemirror_mode": {
    "name": "ipython",
    "version": 3
   },
   "file_extension": ".py",
   "mimetype": "text/x-python",
   "name": "python",
   "nbconvert_exporter": "python",
   "pygments_lexer": "ipython3",
   "version": "3.6.7"
  }
 },
 "nbformat": 4,
 "nbformat_minor": 2
}
