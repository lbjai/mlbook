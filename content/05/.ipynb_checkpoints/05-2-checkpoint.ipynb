{
 "cells": [
  {
   "cell_type": "markdown",
   "metadata": {},
   "source": [
    "### 假设函数表达式"
   ]
  },
  {
   "cell_type": "markdown",
   "metadata": {},
   "source": [
    "\n",
    "+ 逻辑回归的假设函数\n",
    "\n",
    "\n",
    "\n",
    "分类问题，希望分类器的输出值在 0 和 1 之间，因此，假设函数需要满足预测值要在 0 和 1 之间。\n",
    " \n",
    "回归模型的假设是： $h_\\theta(x)=g(\\theta^TX)$\n",
    "其中：     \n",
    "X 代表特征向量     \n",
    "g 代表逻辑函数（logistic function）, 是一个常用的逻辑函数为 S 形函数（Sigmoid function），公式为：\n",
    "$$g(z) = \\frac{1}{1+e^{-z}}$$\n",
    "\n",
    "该函数的图像为： "
   ]
  },
  {
   "cell_type": "markdown",
   "metadata": {},
   "source": [
    "![](https://i.loli.net/2018/12/01/5c018a745fdc1.png) "
   ]
  },
  {
   "cell_type": "markdown",
   "metadata": {},
   "source": [
    "**牛刀小试**"
   ]
  },
  {
   "cell_type": "code",
   "execution_count": 1,
   "metadata": {},
   "outputs": [],
   "source": [
    "#python 代码实现sigmoid函数：\n",
    "import numpy as np\n",
    "def sigmoid(z):\n",
    "    return 1 / (1 + np.exp(-z))\n"
   ]
  },
  {
   "cell_type": "markdown",
   "metadata": {},
   "source": [
    "结合起来，获得逻辑回归的假设：\n",
    "$$h_\\theta(x) =  \\frac{1}{1+e^{-\\theta^TX}}$$\n",
    "\n",
    "$h_\\theta(x)$的作用是，对于给定的输入变量，根据选择的参数计算输出变量为1 的可能性（estimated probablity），即 $h_{\\theta}(x) = P(y=1|x;{\\theta})$。 \n",
    "\n",
    "例如，如果对于给定的 x，通过已经确定的参数计算得出 hθ(x)=0.7，则表示有 70%的几率 y 为正向类，相应地 y 为负向类的几率为 1-0.7=0.3"
   ]
  }
 ],
 "metadata": {
  "kernelspec": {
   "display_name": "Python 3",
   "language": "python",
   "name": "python3"
  },
  "language_info": {
   "codemirror_mode": {
    "name": "ipython",
    "version": 3
   },
   "file_extension": ".py",
   "mimetype": "text/x-python",
   "name": "python",
   "nbconvert_exporter": "python",
   "pygments_lexer": "ipython3",
   "version": "3.6.7"
  }
 },
 "nbformat": 4,
 "nbformat_minor": 2
}
