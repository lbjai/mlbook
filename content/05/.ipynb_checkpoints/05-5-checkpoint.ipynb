{
 "cells": [
  {
   "cell_type": "markdown",
   "metadata": {},
   "source": [
    "### 简化的代价函数和梯度下降"
   ]
  },
  {
   "cell_type": "markdown",
   "metadata": {},
   "source": [
    "+ 简化代价函数\n",
    "+ 梯度下降"
   ]
  },
  {
   "cell_type": "markdown",
   "metadata": {},
   "source": [
    "\n",
    "逻辑回归的代价函数： \n",
    "\n",
    "![](https://i.loli.net/2018/12/01/5c01d18b66e49.png)\n",
    "\n",
    "这个式子可以合并成： \n",
    "\n",
    "![](https://i.loli.net/2018/12/01/5c01d26cab241.png)\n",
    "\n",
    "要试图找出让 $J(\\theta)$取得最小值的参数$\\theta$。  \n",
    "\n",
    "\n",
    "**梯度下降**\n",
    "\n",
    "最小化代价函数的方法，是使用梯度下降法(gradient descent)。这是通常用的梯度下降法的模板： \n",
    "\n",
    "![](https://i.loli.net/2018/12/01/5c01d34b3ee5e.png)\n",
    "\n",
    "反复更新每个参数，用这个式子减去学习率 α 乘以后面的微分项。求导后得到： \n",
    "\n",
    "![](https://i.loli.net/2018/12/01/5c01d3aa903c7.png)\n",
    "\n",
    "计算得到等式： \n",
    "$$\\theta_j := \\theta_j - \\alpha \\frac{1}{m}\\sum^m_{i=1}(h_\\theta(x^{(i)})-y^{(i)})x^{(i)}_j$$\n",
    "\n",
    "来它同时更新所有$\\theta$的值。 \n",
    "\n",
    "这个更新规则和之前用来做线性回归梯度下降的式子是一样的， 但是假设的定义发生了变化。即使更新参数的规则看起来基本相同，但由于假设的定义发生了变化，所以逻辑函数的梯度下降，跟线性回归的梯度下降实际上是两个完全不同的东西。"
   ]
  },
  {
   "cell_type": "markdown",
   "metadata": {},
   "source": [
    "**牛刀小试**\n",
    "\n",
    "Todo:  列出你知道的梯度下降的技巧"
   ]
  },
  {
   "cell_type": "markdown",
   "metadata": {},
   "source": [
    "答:监控梯度下降法以确保其收敛、参数向量化、特征缩放等\n"
   ]
  }
 ],
 "metadata": {
  "kernelspec": {
   "display_name": "Python 3",
   "language": "python",
   "name": "python3"
  },
  "language_info": {
   "codemirror_mode": {
    "name": "ipython",
    "version": 3
   },
   "file_extension": ".py",
   "mimetype": "text/x-python",
   "name": "python",
   "nbconvert_exporter": "python",
   "pygments_lexer": "ipython3",
   "version": "3.6.7"
  }
 },
 "nbformat": 4,
 "nbformat_minor": 2
}
