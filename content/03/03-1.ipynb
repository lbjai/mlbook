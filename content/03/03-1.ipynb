{
 "cells": [
  {
   "cell_type": "markdown",
   "metadata": {},
   "source": [
    "\n",
    "### 矩阵与向量\n",
    "\n",
    "\n",
    "如图：这个是 4×2 矩阵，即 4 行 2 列，如 m 为行，n 为列，那么 m×n 即 4×2\n",
    "\n",
    "![](https://i.loli.net/2018/11/30/5c00d79fdc42f.png)\n",
    "\n",
    "+ 矩阵的维数(dimension)即行数(row)×列数(column) \n",
    "+ 矩阵元素(elements, entries): $A_{ij}$指第 i 行，第 j 列的元素。 "
   ]
  },
  {
   "cell_type": "code",
   "execution_count": 1,
   "metadata": {},
   "outputs": [
    {
     "name": "stdout",
     "output_type": "stream",
     "text": [
      "a:\n",
      " [[1 2]\n",
      " [3 4]]\n"
     ]
    }
   ],
   "source": [
    "# 在python中通常导入numpy包，进行矩阵操作\n",
    "import numpy as np\n",
    "# 创建一个矩阵\n",
    "a=np.array([[1, 2], [3, 4]])\n",
    "print(\"a:\\n\", a)\n"
   ]
  },
  {
   "cell_type": "markdown",
   "metadata": {},
   "source": [
    "**向量**\n",
    "\n",
    "+ 向量是列数为1的特殊矩阵，如图：\n",
    "\n",
    "![](https://i.loli.net/2018/11/30/5c00d8bf694aa.png)\n",
    "\n",
    "+ 向量元素: $y_{i}$指向量 y 第 i 行的元素。\n",
    "\n",
    "如下图为1-索引向量和0-索引向量，无特指本课中使用1-索引向量。 \n",
    "\n",
    "![](https://i.loli.net/2018/11/30/5c00d9a7d8204.png)\n"
   ]
  },
  {
   "cell_type": "code",
   "execution_count": 2,
   "metadata": {},
   "outputs": [
    {
     "name": "stdout",
     "output_type": "stream",
     "text": [
      "b:\n",
      " [[0.]\n",
      " [0.]\n",
      " [0.]]\n"
     ]
    }
   ],
   "source": [
    "# 创建一个矩阵\n",
    "b = np.array(np.zeros((3,1)))\n",
    "print(\"b:\\n\", b)\n"
   ]
  }
 ],
 "metadata": {
  "kernelspec": {
   "display_name": "Python 3",
   "language": "python",
   "name": "python3"
  },
  "language_info": {
   "codemirror_mode": {
    "name": "ipython",
    "version": 3
   },
   "file_extension": ".py",
   "mimetype": "text/x-python",
   "name": "python",
   "nbconvert_exporter": "python",
   "pygments_lexer": "ipython3",
   "version": "3.6.7"
  }
 },
 "nbformat": 4,
 "nbformat_minor": 2
}
