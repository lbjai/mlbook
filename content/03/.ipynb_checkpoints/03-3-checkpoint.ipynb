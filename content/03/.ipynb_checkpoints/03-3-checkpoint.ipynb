{
 "cells": [
  {
   "cell_type": "markdown",
   "metadata": {},
   "source": [
    "### 向量乘法"
   ]
  },
  {
   "cell_type": "markdown",
   "metadata": {},
   "source": [
    "矩阵和向量的乘法如图：m×n 的矩阵乘以 n×1 的向量，得到的是 m×1 的向量 \n",
    "\n",
    "计算详情请直接查看视频\n",
    "![](http://imgbed.momodel.cn/5cc1a0b7e3067ce9b6abf76b.jpg)\n",
    "\n",
    "%%html\n",
    "<img src='http://imgbed.momodel.cn/5cc1a0b7e3067ce9b6abf76b.jpg' width=450 >\n",
    "\n",
    "![](https://i.loli.net/2018/11/30/5c00e170090b7.png)\n",
    "\n",
    "==============================================\n",
    "<img src='https://i.loli.net/2018/11/30/5c00e170090b7.png' width=450 >"
   ]
  },
  {
   "cell_type": "code",
   "execution_count": 8,
   "metadata": {},
   "outputs": [
    {
     "name": "stdout",
     "output_type": "stream",
     "text": [
      "向量a与c的成绩:\n",
      " [[ 5]\n",
      " [18]]\n"
     ]
    }
   ],
   "source": [
    "import numpy as np\n",
    "a = np.mat([[-1,2],[2,3]])\n",
    "c = np.mat([[3],[4]])\n",
    "print(\"向量a与c的成绩:\\n\",a*c)\n"
   ]
  },
  {
   "cell_type": "markdown",
   "metadata": {},
   "source": [
    "为什么要学习矩阵和向量的乘法呢？\n",
    "\n",
    "<img src='http://imgbed.momodel.cn/5cc1a0b7e3067ce9b6abf76c.jpg' width=450 >\n",
    "\n",
    "假如我们有4个房子的面积数据，有一个 hypotheses，那么我们可以把这些房子的数据写成矩阵的形式，把 hypotheses 写成向量的形式，利用矩阵和向量乘法，即可快速进行计算了。"
   ]
  }
 ],
 "metadata": {
  "kernelspec": {
   "display_name": "Python 3",
   "language": "python",
   "name": "python3"
  },
  "language_info": {
   "codemirror_mode": {
    "name": "ipython",
    "version": 3
   },
   "file_extension": ".py",
   "mimetype": "text/x-python",
   "name": "python",
   "nbconvert_exporter": "python",
   "pygments_lexer": "ipython3",
   "version": "3.6.7"
  }
 },
 "nbformat": 4,
 "nbformat_minor": 2
}
