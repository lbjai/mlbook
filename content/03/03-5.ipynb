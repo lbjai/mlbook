{
 "cells": [
  {
   "cell_type": "markdown",
   "metadata": {},
   "source": [
    "### 矩阵乘法的性质"
   ]
  },
  {
   "cell_type": "markdown",
   "metadata": {},
   "source": [
    "\n",
    "+ 矩阵的乘法不满足交换律：$A×B≠B×A$\n",
    "+ 矩阵的乘法满足结合律。即：$A×（B×C）=（A×B）×C$ "
   ]
  },
  {
   "cell_type": "markdown",
   "metadata": {},
   "source": [
    "**单位矩阵**\n",
    "\n",
    "\n",
    "在矩阵的乘法中，有一种矩阵起着特殊的作用，如同数的乘法中的 1,我们称这种矩阵为单位矩阵．它是个方阵，一般用 I 或者 E 表示，本讲义都用 I 代表单位矩阵，从左上角到右下角的对角线（称为主对角线）上的元素均为 1 以外全都为 0。如：\n",
    "\n",
    "![](https://i.loli.net/2018/11/30/5c00e2dd0442f.png)\n",
    "\n",
    "对于单位矩阵，有 $ AI = IA = A$。 "
   ]
  },
  {
   "cell_type": "code",
   "execution_count": 1,
   "metadata": {},
   "outputs": [
    {
     "name": "stdout",
     "output_type": "stream",
     "text": [
      "a: \n",
      " [[-1  2]\n",
      " [ 2  3]] \n",
      "b: \n",
      " [[3 4]\n",
      " [4 5]]\n"
     ]
    }
   ],
   "source": [
    "import numpy as np\n",
    "\n",
    "a = np.mat([[-1,2],[2,3]])\n",
    "b = np.mat([[3,4],[4,5]])\n",
    "print (\"a: \\n\",a, \"\\nb: \\n\",b)\n"
   ]
  },
  {
   "cell_type": "code",
   "execution_count": 2,
   "metadata": {},
   "outputs": [
    {
     "name": "stdout",
     "output_type": "stream",
     "text": [
      "a*b: \n",
      " [[ 5  6]\n",
      " [18 23]]\n",
      "b*a: \n",
      " [[ 5 18]\n",
      " [ 6 23]]\n"
     ]
    }
   ],
   "source": [
    "# 试试 a*b 和 b*a 是不是相同呢?\n",
    "print (\"a*b: \\n\",a*b)\n",
    "print (\"b*a: \\n\",b*a)\n"
   ]
  },
  {
   "cell_type": "code",
   "execution_count": 3,
   "metadata": {},
   "outputs": [
    {
     "name": "stdout",
     "output_type": "stream",
     "text": [
      "c: \n",
      " [[1 3]\n",
      " [2 4]]\n"
     ]
    }
   ],
   "source": [
    "c = np.mat([[1,3],[2,4]])\n",
    "print (\"c: \\n\",c, )\n"
   ]
  },
  {
   "cell_type": "code",
   "execution_count": 4,
   "metadata": {},
   "outputs": [
    {
     "name": "stdout",
     "output_type": "stream",
     "text": [
      "a*b*c: \n",
      " [[ 17  39]\n",
      " [ 64 146]]\n",
      "a*(b*c): \n",
      " [[ 17  39]\n",
      " [ 64 146]]\n"
     ]
    }
   ],
   "source": [
    "# 试试 a*b*c 和 a*(b*c) 是不是相同呢?\n",
    "print (\"a*b*c: \\n\",a*b*c)\n",
    "print (\"a*(b*c): \\n\",a*(b*c))\n"
   ]
  }
 ],
 "metadata": {
  "kernelspec": {
   "display_name": "Python 3",
   "language": "python",
   "name": "python3"
  },
  "language_info": {
   "codemirror_mode": {
    "name": "ipython",
    "version": 3
   },
   "file_extension": ".py",
   "mimetype": "text/x-python",
   "name": "python",
   "nbconvert_exporter": "python",
   "pygments_lexer": "ipython3",
   "version": "3.6.7"
  }
 },
 "nbformat": 4,
 "nbformat_minor": 2
}
