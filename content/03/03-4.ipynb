{
 "cells": [
  {
   "cell_type": "markdown",
   "metadata": {},
   "source": [
    "### 矩阵乘法"
   ]
  },
  {
   "cell_type": "markdown",
   "metadata": {},
   "source": [
    "m×n 矩阵乘以 n×o 矩阵，变成 m×o 矩阵。 \n",
    "\n",
    "![](https://i.loli.net/2018/11/30/5c00e23814b27.png)"
   ]
  },
  {
   "cell_type": "markdown",
   "metadata": {},
   "source": [
    "\n",
    "我们可以把它和我们上一节课所讲的矩阵和向量的乘法结合起来, 我们吧矩阵和矩阵的乘法拆解为多个矩阵和向量的乘法,然后再拼接起来,看下图\n",
    "\n",
    "![](http://imgbed.momodel.cn/5cc1a0b4e3067ce9b6abf762.jpg)\n"
   ]
  },
  {
   "cell_type": "code",
   "execution_count": 2,
   "metadata": {},
   "outputs": [
    {
     "name": "stdout",
     "output_type": "stream",
     "text": [
      "a: \n",
      " [[-1  2]\n",
      " [ 2  3]] \n",
      "b: \n",
      " [[3 4]\n",
      " [4 5]]\n",
      "a*b:\n",
      " [[ 5  6]\n",
      " [18 23]]\n"
     ]
    }
   ],
   "source": [
    "import numpy as np\n",
    "\n",
    "a = np.mat([[-1,2],[2,3]])\n",
    "b = np.mat([[3,4],[4,5]])\n",
    "print (\"a: \\n\",a, \"\\nb: \\n\",b)\n",
    "print(\"a*b:\\n\",a*b)\n"
   ]
  },
  {
   "cell_type": "markdown",
   "metadata": {},
   "source": [
    "我们为什么要学习矩阵乘法？\n",
    "\n",
    "![](http://imgbed.momodel.cn/5cc1a0b5e3067ce9b6abf763.jpg)\n",
    "\n",
    "假如我们有4个房子的面积数据，有三个 hypotheses，那么我们可以把这些数据写成矩阵的形式，利用矩阵乘法，即可快速进行计算了。"
   ]
  },
  {
   "cell_type": "code",
   "execution_count": null,
   "metadata": {},
   "outputs": [],
   "source": []
  }
 ],
 "metadata": {
  "kernelspec": {
   "display_name": "Python 3",
   "language": "python",
   "name": "python3"
  },
  "language_info": {
   "codemirror_mode": {
    "name": "ipython",
    "version": 3
   },
   "file_extension": ".py",
   "mimetype": "text/x-python",
   "name": "python",
   "nbconvert_exporter": "python",
   "pygments_lexer": "ipython3",
   "version": "3.6.7"
  }
 },
 "nbformat": 4,
 "nbformat_minor": 2
}
