{
 "cells": [
  {
   "cell_type": "markdown",
   "metadata": {},
   "source": [
    "### 问题描述与管道"
   ]
  },
  {
   "cell_type": "markdown",
   "metadata": {},
   "source": [
    "+ 图片文字识别(Application Example: Photo OCR)的问题描述\n",
    "+ 图片文字识别流程图 "
   ]
  },
  {
   "cell_type": "markdown",
   "metadata": {},
   "source": [
    "**图片文字识别问题描述**\n",
    "\n",
    "图像文字识别应用所作的事是，从一张给定的图片中识别文字。这比从一份扫描文档中识别文字要复杂的多。 \n",
    "\n",
    "![](https://i.loli.net/2018/12/02/5c03216750f6e.png\n",
    "\n",
    "\n",
    "**图片文字识别流程图**\n",
    "\n",
    "为了完成这样的工作，需要采取如下步骤： \n",
    "1. 文字侦测（Text detection）——将图片上的文字与其他环境对象分离开来 \n",
    "2. 字符切分（Character segmentation）——将文字分割成一个个单一的字符 \n",
    "3. 字符分类（Character classification）——确定每一个字符是什么 \n",
    "\n",
    "可以用任务流程图来表达这个问题，每一项任务可以由一个单独的功能来负责解决： \n",
    "\n",
    "![](https://i.loli.net/2018/12/02/5c0321ba010d5.png)"
   ]
  }
 ],
 "metadata": {
  "kernelspec": {
   "display_name": "Python 3",
   "language": "python",
   "name": "python3"
  },
  "language_info": {
   "codemirror_mode": {
    "name": "ipython",
    "version": 3
   },
   "file_extension": ".py",
   "mimetype": "text/x-python",
   "name": "python",
   "nbconvert_exporter": "python",
   "pygments_lexer": "ipython3",
   "version": "3.6.7"
  }
 },
 "nbformat": 4,
 "nbformat_minor": 2
}
