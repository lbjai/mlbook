{
 "cells": [
  {
   "cell_type": "markdown",
   "metadata": {},
   "source": [
    "### 非监督学习介绍"
   ]
  },
  {
   "cell_type": "markdown",
   "metadata": {},
   "source": [
    "典型的监督学习中，我们有一个有标签的训练集，我们的目标是找到能够区分正样本和负样本的决策边界需要据此拟合一个假设函数。"
   ]
  },
  {
   "cell_type": "markdown",
   "metadata": {},
   "source": [
    "![](https://i.loli.net/2018/12/02/5c02bbd4c4cb3.png)"
   ]
  },
  {
   "cell_type": "markdown",
   "metadata": {},
   "source": [
    "无监督学习中，数据没有附带任何标签："
   ]
  },
  {
   "cell_type": "markdown",
   "metadata": {},
   "source": [
    "![](https://i.loli.net/2018/12/02/5c02bc055baa5.png)"
   ]
  },
  {
   "cell_type": "markdown",
   "metadata": {},
   "source": [
    "图上的数据看起来可以分成两个分开的点集（称为簇），一个能够找到我圈出的这些点集的算法，就被称为聚类算法。 \n",
    "\n",
    "**聚类算法**\n",
    "\n",
    "> 聚类算法试图将数据集中的样本划分为若干个通常是不交集的子集，每个子集 称为一个簇（cluser）。形式化地说，假定样本集$D= {x_1,x_2,...,x_m}$包含m个无标记样本，每个样本$x_i$是一个n维特征向量，则聚类算法将样本D划分为k个不相交的簇${C_l|l=1,2,...,k}$，其中$C_{l^`}\\cap_{l^` \\neq l}C_l = \\emptyset$且$D=\\cup^k_{l=1}C_l$。相应地，我们用$\\lambda_j \\in {1,2,...,k}$表示样本$x_j$的“簇标记”（cluster label），即$x_ \\in C_{\\lambda_j}$。聚类结果也可以用包含m个元素的簇标记向量$\\lambda = (\\lambda_1,\\lambda_2,...,\\lambda_k)$表示。"
   ]
  },
  {
   "cell_type": "markdown",
   "metadata": {},
   "source": [
    "**牛刀小试**\n",
    "\n",
    "Todo: 你认为上面的无监督学习示意图中的样本点,可以聚为几类?\n",
    "\n"
   ]
  },
  {
   "cell_type": "markdown",
   "metadata": {},
   "source": [
    "答：2类。\n"
   ]
  }
 ],
 "metadata": {
  "kernelspec": {
   "display_name": "Python 3",
   "language": "python",
   "name": "python3"
  },
  "language_info": {
   "codemirror_mode": {
    "name": "ipython",
    "version": 3
   },
   "file_extension": ".py",
   "mimetype": "text/x-python",
   "name": "python",
   "nbconvert_exporter": "python",
   "pygments_lexer": "ipython3",
   "version": "3.6.7"
  }
 },
 "nbformat": 4,
 "nbformat_minor": 2
}
