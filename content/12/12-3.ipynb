{
 "cells": [
  {
   "cell_type": "markdown",
   "metadata": {},
   "source": [
    "### 优化目标"
   ]
  },
  {
   "cell_type": "markdown",
   "metadata": {},
   "source": [
    "+ K-均值的代价函数\n",
    "+ K-均值的迭代算法\n",
    "\n",
    "**K-均值的代价函数**\n",
    "\n",
    "K-均值最小化问题，是要最小化所有的数据点与其所关联的聚类中心点之间的距离之和，因此 K-均值的代价函数（又称畸变函数 Distortion function）为： "
   ]
  },
  {
   "cell_type": "markdown",
   "metadata": {},
   "source": [
    "**优化目标**\n",
    "\n",
    "![](https://i.loli.net/2018/12/02/5c02c27d50f61.png)\n",
    "\n",
    "其中$\\mu_{c^{(i)}}$代表与$x^{(i)}$ 最近的聚类中心点。优化目标便是找出使得代价函数最小的$c^{(1)},c^{(2)},...c^{(m)}$和 $\\mu^1,\\mu^2,...,\\mu^k$。\n",
    " \n",
    "回顾刚才给出的："
   ]
  },
  {
   "cell_type": "markdown",
   "metadata": {},
   "source": [
    "**优化目标**\n",
    "\n",
    "![](https://i.loli.net/2018/12/02/5c02c33934b34.png)\n",
    "\n",
    "\n",
    "**K-均值的迭代算法**\n",
    "\n",
    "![](https://i.loli.net/2018/12/02/5c02c36a50c90.png)\n",
    "\n",
    "\n",
    "K-均值迭代算法，第一个循环是用于减小$c^{(i)}$引起的代价，而第二个循环则是用于减小$\\mu_i$引起的代价。迭代的过程一定会是每一次迭代都在减小代价函数，不然便是出现了错误。 "
   ]
  }
 ],
 "metadata": {
  "kernelspec": {
   "display_name": "Python 3",
   "language": "python",
   "name": "python3"
  },
  "language_info": {
   "codemirror_mode": {
    "name": "ipython",
    "version": 3
   },
   "file_extension": ".py",
   "mimetype": "text/x-python",
   "name": "python",
   "nbconvert_exporter": "python",
   "pygments_lexer": "ipython3",
   "version": "3.6.7"
  }
 },
 "nbformat": 4,
 "nbformat_minor": 2
}
