{
 "cells": [
  {
   "cell_type": "markdown",
   "metadata": {},
   "source": [
    "### 诊断偏差和方差"
   ]
  },
  {
   "cell_type": "markdown",
   "metadata": {},
   "source": [
    "+  诊断偏差或是方差，即判断欠拟合还是过拟合\n",
    "\n",
    "**诊断偏差或方差**\n",
    "\n",
    "高偏差和高方差的问题基本上来说是欠拟合和过拟合的问题。"
   ]
  },
  {
   "cell_type": "markdown",
   "metadata": {},
   "source": [
    "![](https://i.loli.net/2018/12/01/5c02699b9600e.png)\n",
    "\n",
    "我们通常会通过将训练集和交叉验证集的代价函数误差与多项式的次数绘制在同一张图表上来帮助分析： "
   ]
  },
  {
   "cell_type": "markdown",
   "metadata": {},
   "source": [
    "\n",
    "![](https://i.loli.net/2018/12/01/5c026ebb8371a.png)\n",
    "\n",
    "\n",
    "其中，训练集误差和交叉验证误差如下：\n",
    "\n",
    "![](https://i.loli.net/2018/12/01/5c026f390cbf4.png)\n",
    "\n",
    "\n",
    "对于训练集，当 d 较小时，模型拟合程度更低，误差较大；随着 d 的增长，拟合程度提高，误差减小。      \n",
    "对于交叉验证集，当 d 较小时，模型拟合程度低，误差较大；但是随着 d 的增长，误差呈现先减小后增大的趋势，转折点是我们的模型开始过拟合训练数据集的时候。 \n",
    "\n",
    "如果我们的交叉验证集误差较大，我们如何判断是方差还是偏差呢？ 根据上面的图表，我们知道: "
   ]
  },
  {
   "cell_type": "markdown",
   "metadata": {},
   "source": [
    "![](https://i.loli.net/2018/12/01/5c026fb7db315.png)\n",
    " \n",
    "+ 训练集误差和交叉验证集误差近似时：偏差 \n",
    "+ 交叉验证集误差远大于训练集误差时：方差 "
   ]
  },
  {
   "cell_type": "markdown",
   "metadata": {},
   "source": [
    "**牛刀小试**\n",
    "\n",
    "Todo:  当训练集误差和交叉验证集误差近似时,是欠拟合还是过拟合? 当交叉验证集误差远大于训练集误差时,是欠拟合还是过拟合? \n"
   ]
  },
  {
   "cell_type": "markdown",
   "metadata": {},
   "source": [
    "答：当训练集误差和交叉验证集误差近似时,是欠拟合,当交叉验证集误差远大于训练集误差时,是过拟合.\n"
   ]
  }
 ],
 "metadata": {
  "kernelspec": {
   "display_name": "Python 3",
   "language": "python",
   "name": "python3"
  },
  "language_info": {
   "codemirror_mode": {
    "name": "ipython",
    "version": 3
   },
   "file_extension": ".py",
   "mimetype": "text/x-python",
   "name": "python",
   "nbconvert_exporter": "python",
   "pygments_lexer": "ipython3",
   "version": "3.6.7"
  }
 },
 "nbformat": 4,
 "nbformat_minor": 2
}
