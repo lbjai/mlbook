{
 "cells": [
  {
   "cell_type": "markdown",
   "metadata": {},
   "source": [
    "### 假设检验"
   ]
  },
  {
   "cell_type": "markdown",
   "metadata": {},
   "source": [
    "+ 如何评估假设函数\n",
    "+ 训练集与测试集\n",
    "+ 测试机误差计算\n",
    "\n",
    "**评估假设函数**\n",
    "\n",
    " 假设函数误差很小时,可能已经过拟合了。\n",
    " \n",
    "那么，你该如何判断一个假设函数是过拟合的呢？对于这个简单的例子，我们可以对假设函数 h(x) 进行画图，然后观察图形趋势，但对于特征变量不止一个的这种一般情况，还有像有很多特征变量的问题，想要通过画出假设函数来进行观察，会变得很难甚至是不可能实现的。\n",
    "\n",
    "因此，我们需要另一种方法来评估我们的假设函数过拟合检验。 \n",
    "\n",
    "**训练集与测试集**\n",
    "\n",
    "为了检验算法是否过拟合，我们将数据分成训练集和测试集，通常用70%的数据作为训练集，用剩下30%的数据作为测试集。\n",
    "\n",
    "很重要的一点是训练集和测试集均要含有各种类型的数据，通常我们要对数据进行“洗牌”，然后再分成训练集和测试集。 \n",
    "\n",
    "![](https://i.loli.net/2018/12/01/5c0265f436958.png)\n",
    "\n",
    "**测试集误差计算**\n",
    "\n",
    "在通过训练集让我们的模型学习得出其参数后，对测试集运用该模型，我们有两种方式计算误差： \n",
    "1. 对于线性回归模型，我们利用测试数据集计算代价函数J ；"
   ]
  },
  {
   "cell_type": "markdown",
   "metadata": {},
   "source": [
    "\n",
    "\n",
    " $$J_{test}(\\theta)=\\frac{1}{2m_{test}}\\sum^{m_{test}}_{i=1}({h_\\theta(x^{(i)}_{test})-y^{(i)}_{test}})^2$$\n",
    "\n",
    "2. 对于逻辑回归模型，我们可以利用测试数据集来计算代价函数： \n",
    " "
   ]
  },
  {
   "cell_type": "markdown",
   "metadata": {},
   "source": [
    "\n",
    " \n",
    " $$J_{test}(\\theta)=-\\frac{1}{m_{test}}\\sum^{m_{test}}_{i=1}y^{(i)}_{test}\\log{h_\\theta(x^{(i)}_{test})}+(1-y^{(i)}_{test}）\\log{h_\\theta(x^{(i)}_{test})}$$\n",
    " \n",
    "也可以计算误分类的比率，对于每一个测试集实例，计算： \n",
    " \n",
    "![](https://i.loli.net/2018/12/01/5c0266a346bc2.png)\n",
    " \n",
    "然后对计算结果求平均。 \n",
    " \n",
    " "
   ]
  },
  {
   "cell_type": "markdown",
   "metadata": {},
   "source": [
    "$$J_{test}(\\theta)=-\\frac{1}{m_{test}}\\sum^{m_{test}}_{i=1}y^{(i)}_{test}\\log{h_\\theta(x^{(i)}_{test})}+(1-y^{(i)}_{test}）\\log{h_\\theta(x^{(i)}_{test})}$$"
   ]
  }
 ],
 "metadata": {
  "kernelspec": {
   "display_name": "Python 3",
   "language": "python",
   "name": "python3"
  },
  "language_info": {
   "codemirror_mode": {
    "name": "ipython",
    "version": 3
   },
   "file_extension": ".py",
   "mimetype": "text/x-python",
   "name": "python",
   "nbconvert_exporter": "python",
   "pygments_lexer": "ipython3",
   "version": "3.6.7"
  }
 },
 "nbformat": 4,
 "nbformat_minor": 2
}
