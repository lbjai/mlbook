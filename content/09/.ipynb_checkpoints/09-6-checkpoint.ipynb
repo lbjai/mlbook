{
 "cells": [
  {
   "cell_type": "markdown",
   "metadata": {},
   "source": [
    "### 学习曲线"
   ]
  },
  {
   "cell_type": "markdown",
   "metadata": {},
   "source": [
    "学习曲线是学习算法的一个很好的合理检验（sanity check），可以用来判断某一个学习算法是否处于偏差、方差问题。学习曲线是将训练集误差和交叉验证集误差作为训练集实例数量（m）的函数绘制的图表。 \n",
    "\n",
    "思想是：当训练较少行数据的时候，训练的模型将能够非常完美地适应较少的训练数据，但是训练出来的模型却不能很好地适应交叉验证集数据或测试集数据。 "
   ]
  },
  {
   "cell_type": "markdown",
   "metadata": {},
   "source": [
    "![](https://i.loli.net/2018/12/01/5c0272ec719ad.png)\n",
    "\n",
    "![](https://i.loli.net/2018/12/01/5c0272dcc8a8b.png)\n",
    "\n",
    "如何利用学习曲线识别高偏差/欠拟合： 作为例子，我们尝试用一条直线来适应下面的数据，可以看出，无论训练集有多么大误差都不会有太大改观： "
   ]
  },
  {
   "cell_type": "markdown",
   "metadata": {},
   "source": [
    "\n",
    "![](https://i.loli.net/2018/12/01/5c02731d212c0.png)\n",
    " \n",
    "也就是说在高偏差/欠拟合的情况下，增加数据到训练集不一定能有帮助。 \n",
    "\n",
    "如何利用学习曲线识别高方差/过拟合： 假设我们使用一个非常高次的多项式模型，并且正则化非常小，可以看出，当交叉验证集误差远大于训练集误差时，往训练集增加更多数据可以提高模型的效果。 \n",
    " \n",
    "也就是说在高方差/过拟合的情况下，增加更多数据到训练集可能可以提高算法效果。"
   ]
  },
  {
   "cell_type": "markdown",
   "metadata": {},
   "source": [
    "![](https://i.loli.net/2018/12/01/5c0273501e7c5.png)\n",
    " \n",
    " 也就是说在高方差/过拟合的情况下，增加更多数据到训练集可能可以提高算法效果。\n",
    " "
   ]
  },
  {
   "cell_type": "markdown",
   "metadata": {},
   "source": [
    "**牛刀小试**\n",
    "\n",
    "Todo:  写下你知道的解决过拟合的方法. \n"
   ]
  },
  {
   "cell_type": "markdown",
   "metadata": {},
   "source": [
    "答:1.增加正则项 2.减小模型复杂度\n"
   ]
  }
 ],
 "metadata": {
  "kernelspec": {
   "display_name": "Python 3",
   "language": "python",
   "name": "python3"
  },
  "language_info": {
   "codemirror_mode": {
    "name": "ipython",
    "version": 3
   },
   "file_extension": ".py",
   "mimetype": "text/x-python",
   "name": "python",
   "nbconvert_exporter": "python",
   "pygments_lexer": "ipython3",
   "version": "3.6.7"
  }
 },
 "nbformat": 4,
 "nbformat_minor": 2
}
