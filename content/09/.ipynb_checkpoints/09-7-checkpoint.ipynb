{
 "cells": [
  {
   "cell_type": "markdown",
   "metadata": {},
   "source": [
    "### 决定下一步做什么(回顾)"
   ]
  },
  {
   "cell_type": "markdown",
   "metadata": {},
   "source": [
    "**选择处理方法**\n",
    "\n",
    "1. 获得更多的训练实例——解决高方差 \n",
    "2. 尝试减少特征的数量——解决高方差 \n",
    "3. 尝试获得更多的特征——解决高偏差 \n",
    "4. 尝试增加多项式特征——解决高偏差 \n",
    "5. 尝试减少正则化程度 λ——解决高偏差 \n",
    "6. 尝试增加正则化程度 λ——解决高方差 "
   ]
  },
  {
   "cell_type": "markdown",
   "metadata": {},
   "source": [
    "**神经网络的方差和偏差**\n",
    "\n",
    "![](https://i.loli.net/2018/12/01/5c027421e8dd2.png)\n",
    "\n",
    "+ 使用较小的神经网络，类似于参数较少的情况，容易导致高偏差和欠拟合，但计算代价较小\n",
    "+ 使用较大的神经网络，类似于参数较多的情况，容易导致高方差和过拟合，虽然计算代价比较大，但是可以通过正则化手段来调整而更加适应数据。 \n",
    "\n",
    "通常选择较大的神经网络并采用正则化处理会比采用较小的神经网络效果要好。 \n",
    "\n",
    "对于神经网络中的隐藏层的层数的选择，通常从一层开始逐渐增加层数，为了更好地作选择，可以把数据分为训练集、交叉验证集和测试集，针对不同隐藏层层数的神经网络训练神经网络， 然后选择交叉验证集代价最小的神经网络。 "
   ]
  }
 ],
 "metadata": {
  "kernelspec": {
   "display_name": "Python 3",
   "language": "python",
   "name": "python3"
  },
  "language_info": {
   "codemirror_mode": {
    "name": "ipython",
    "version": 3
   },
   "file_extension": ".py",
   "mimetype": "text/x-python",
   "name": "python",
   "nbconvert_exporter": "python",
   "pygments_lexer": "ipython3",
   "version": "3.6.7"
  }
 },
 "nbformat": 4,
 "nbformat_minor": 2
}
