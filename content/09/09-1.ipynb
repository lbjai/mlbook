{
 "cells": [
  {
   "cell_type": "markdown",
   "metadata": {},
   "source": [
    "### 决定下一步做什么"
   ]
  },
  {
   "cell_type": "markdown",
   "metadata": {},
   "source": [
    "+ 机器学习模型误差较大时怎么改进"
   ]
  },
  {
   "cell_type": "markdown",
   "metadata": {},
   "source": [
    "**如何改进机器学习模型** \n",
    "\n",
    "![](http://imgbed.momodel.cn/5cc1a0b7e3067ce9b6abf76d.jpg)\n",
    "\n",
    "当运用训练好的模型来预测未知数据的时候发现有较大的误差时，通常有以下方法：\n",
    "1. 获得更多的训练实例——通常是有效的，但代价较大，下面的方法也可能有效，可考虑先采用下面的几种方法。 \n",
    "2. 尝试减少特征的数量来避免过拟合.\n",
    "3. 尝试获得更多的特征 \n",
    "4. 尝试增加多项式特征 \n",
    "5. 尝试减少正则化程度$\\lambda$\n",
    "6. 尝试增加正则化程度$\\lambda$\n",
    "\n",
    "我们不应该随机选择上面的某种方法来改进我们的算法，而是运用一些机器学习诊断法来帮助我们知道上面哪些方法对我们的算法是有效的。 \n",
    "\n",
    "在接下来的两段视频中，我们将介绍\"机器学习诊断法\"。\n",
    "\n",
    "这些诊断法的执行和实现，是需要花些时间的，有时候确实需要花很多时间来理解和实现，但是它通常能够告诉你，要想改进一种算法的效果，什么样的尝试，才是有意义的。\n",
    "\n",
    " \n",
    " "
   ]
  }
 ],
 "metadata": {
  "kernelspec": {
   "display_name": "Python 3",
   "language": "python",
   "name": "python3"
  },
  "language_info": {
   "codemirror_mode": {
    "name": "ipython",
    "version": 3
   },
   "file_extension": ".py",
   "mimetype": "text/x-python",
   "name": "python",
   "nbconvert_exporter": "python",
   "pygments_lexer": "ipython3",
   "version": "3.6.7"
  }
 },
 "nbformat": 4,
 "nbformat_minor": 2
}
