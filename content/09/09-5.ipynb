{
 "cells": [
  {
   "cell_type": "markdown",
   "metadata": {},
   "source": [
    "### 正则化、偏差和方差"
   ]
  },
  {
   "cell_type": "markdown",
   "metadata": {},
   "source": [
    "\n",
    "**正则化系数的选择**\n",
    "\n",
    "选择正则化系数$\\lambda$ 的值时也需要思考欠拟合和过拟合的问题。"
   ]
  },
  {
   "cell_type": "markdown",
   "metadata": {},
   "source": [
    "\n",
    "![](https://i.loli.net/2018/12/01/5c0270d201ec5.png)\n",
    "\n",
    "通常，我们选择一系列的想要测试的 λ 值，通常是 0-10 之间的呈现 2 倍关系的值（如：0,0.01,0.02,0.04,0.08,0.15,0.32,0.64,1.28,2.56,5.12,10 共 12 个）。 我们同样把数据分为训练集、交叉验证集和测试集。 "
   ]
  },
  {
   "cell_type": "markdown",
   "metadata": {},
   "source": [
    "![](https://i.loli.net/2018/12/01/5c02716ba966d.png)\n",
    "\n",
    " 选择$\\lambda$的方法为： \n",
    "1. 使用训练集训练出 12 个不同程度正则化的模型 \n",
    "2. 用 12 模型分别对交叉验证集计算的出交叉验证误差 \n",
    "3. 选择得出交叉验证误差最小的模型 \n",
    "4. 运用步骤 3 中选出模型对测试集计算得出推广误差，我们也可以同时将训练集和交叉验证集模型的代价函数误差与$\\lambda$的值绘制在一张图表上： "
   ]
  },
  {
   "cell_type": "markdown",
   "metadata": {},
   "source": [
    "![](https://i.loli.net/2018/12/01/5c0271bd0cc19.png)\n",
    "\n",
    "\n",
    "+ 当$\\lambda$较小时，训练集误差较小（过拟合）而交叉验证集误差较大 \n",
    "+ 随着$\\lambda$的增加，训练集误差不断增加（欠拟合），而交叉验证集误差则是先减小后增加"
   ]
  },
  {
   "cell_type": "markdown",
   "metadata": {},
   "source": [
    "**牛刀小试**\n",
    "\n",
    "Todo:  观察上图, 当$\\lambda$较小时，训练集误差较小（过拟合）而交叉验证集误差较大 , 随着$\\lambda$的增加，训练集误差不断增加（欠拟合），而交叉验证集误差则是先减小后增加, 这句话是正确的吗?\n",
    "\n"
   ]
  },
  {
   "cell_type": "markdown",
   "metadata": {},
   "source": [
    "答:正确.\n"
   ]
  }
 ],
 "metadata": {
  "kernelspec": {
   "display_name": "Python 3",
   "language": "python",
   "name": "python3"
  },
  "language_info": {
   "codemirror_mode": {
    "name": "ipython",
    "version": 3
   },
   "file_extension": ".py",
   "mimetype": "text/x-python",
   "name": "python",
   "nbconvert_exporter": "python",
   "pygments_lexer": "ipython3",
   "version": "3.6.7"
  }
 },
 "nbformat": 4,
 "nbformat_minor": 2
}
