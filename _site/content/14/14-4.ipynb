{
 "cells": [
  {
   "cell_type": "markdown",
   "metadata": {},
   "source": [
    "### 开发和评价一个异常检测系统"
   ]
  },
  {
   "cell_type": "markdown",
   "metadata": {},
   "source": [
    "异常检测算法是一个非监督学习算法，意味着我们无法根据结果变量 y 的值来告诉我们数据是否真的是异常的。我们需要另一种方法来帮助检验算法是否有效。\n",
    "\n",
    "当我们开发一个异常检测系统时，我们从带标记（异常或正常）的数据着手，我们从其中选择一部分正常数据用于构建训练集，然后用剩下的正常数据和异常数据混合的数据构成交叉检验集和测试集。 \n",
    "\n",
    "例如：我们有 10000 台正常引擎的数据，有 20 台异常引擎的数据。 我们这样分配数据： \n",
    "+ 6000 台正常引擎的数据作为训练集 \n",
    "+ 2000 台正常引擎和 10 台异常引擎的数据作为交叉检验集 \n",
    "+ 2000 台正常引擎和 10 台异常引擎的数据作为测试集  \n",
    "\n",
    "具体的评价方法如下： \n",
    "1. 根据测试集数据，我们估计特征的平均值和方差并构建$p(x)$函数 \n",
    "2. 对交叉检验集，我们尝试使用不同的$\\varepsilon$值作为阀值，并预测数据是否异常，根据F1值或者查准率与查全率的比例来选择$\\varepsilon$\n",
    "3. 选出$\\varepsilon$后，针对测试集进行预测，计算异常检验系统的 F1 值，或者查准率与查全率之比。"
   ]
  }
 ],
 "metadata": {
  "kernelspec": {
   "display_name": "Python 3",
   "language": "python",
   "name": "python3"
  },
  "language_info": {
   "codemirror_mode": {
    "name": "ipython",
    "version": 3
   },
   "file_extension": ".py",
   "mimetype": "text/x-python",
   "name": "python",
   "nbconvert_exporter": "python",
   "pygments_lexer": "ipython3",
   "version": "3.6.7"
  }
 },
 "nbformat": 4,
 "nbformat_minor": 2
}
