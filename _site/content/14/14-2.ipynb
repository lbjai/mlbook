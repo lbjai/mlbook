{
 "cells": [
  {
   "cell_type": "markdown",
   "metadata": {},
   "source": [
    "### 高斯分布"
   ]
  },
  {
   "cell_type": "markdown",
   "metadata": {},
   "source": [
    "如果变量$x$符合高斯分布$x ~ N(\\mu, \\sigma^2) $, 则其概率密度函数为： \n",
    "$$p(x,\\mu, \\sigma^2) = \\frac{1}{\\sqrt{2\\pi}\\sigma}exp(-\\frac{(x-\\mu)^2}{2\\sigma^2})$$\n",
    " \n",
    "我们可以利用已有的数据来预测总体中的$\\mu$和$\\sigma^2$的计算方法如下： \n",
    "\n",
    "$$ \\mu = \\frac{1}{m}\\sum^m_{i=1}x^{(i)} $$\n",
    "\n",
    "$$\\sigma^2 = \\frac{1}{m}\\sum^m_{i=1}(x^{(i)}-\\mu)^2$$\n",
    "\n",
    "高斯分布样例： \n",
    "\n",
    "![](https://i.loli.net/2018/12/02/5c03593b1584b.png)\n",
    "\n",
    "注：机器学习中对于方差我们通常只除以 m 而非统计学中的（m-1）。在实际使用中，到底是选择使用 1/m 还是 1/(m-1)其实区别很小，只要你有一个还算大的训练集，在机器学习领域大部分人更习惯使用 1/m 这个版本的公式。这两个版本的公式在理论特性和数学特性上稍有不同，但是在实际使用中，他们的区别甚小，几乎可以忽略不计。"
   ]
  }
 ],
 "metadata": {
  "kernelspec": {
   "display_name": "Python 3",
   "language": "python",
   "name": "python3"
  },
  "language_info": {
   "codemirror_mode": {
    "name": "ipython",
    "version": 3
   },
   "file_extension": ".py",
   "mimetype": "text/x-python",
   "name": "python",
   "nbconvert_exporter": "python",
   "pygments_lexer": "ipython3",
   "version": "3.6.7"
  }
 },
 "nbformat": 4,
 "nbformat_minor": 2
}
