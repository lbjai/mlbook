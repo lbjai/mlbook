{
 "cells": [
  {
   "cell_type": "markdown",
   "metadata": {},
   "source": [
    "### 欢迎"
   ]
  },
  {
   "cell_type": "markdown",
   "metadata": {},
   "source": [
    "**这一节我们主要学习**<br>\n",
    "+ 什么是机器学习\n",
    "+ 机器学习能用来做什么"
   ]
  },
  {
   "cell_type": "markdown",
   "metadata": {},
   "source": [
    "**机器学习是什么**\n",
    "\n",
    "机器学习是目前信息技术中最激动人心的方向之一。\n",
    "\n",
    "应用举例：    \n",
    "+ 各类内容网站对用户进行推荐\n",
    "+ 搜索网站谷歌、必应使用学习算法来进行网页排序\n",
    "+ Facebook或苹果使用图片分类算法来认出你朋友的照片\n",
    "+ 电子邮件垃圾邮件服务器通过学习算法过滤大量的垃圾邮件\n",
    "    \n",
    "> 机器学习，致力于研究如何通过计算的手段，利用经验来改善系统自身的性能。     \n",
    "机器学习研究的主要内容，是关于在计算机上从数据中产生“模型”（model）的算法，即“学习算法”（learning algorithm）。    \n",
    "\n",
    "**我们的目标就是想去实现这一些算法, 并将它运用于我们的生活中, 是不是想想就有点激动呢**"
   ]
  },
  {
   "cell_type": "markdown",
   "metadata": {},
   "source": [
    "**机器学习能用来做什么**\n",
    "\n",
    "为什么机器学习如此受欢迎呢？原因是，机器学习不只是用于人工智能领域，现在它涉及到各个行业和基础科学中。\n",
    "\n",
    "一些案例：\n",
    "+ 数据挖掘：大量的硅谷公司正在收集web上的单击数据，也称为点击流数据，并尝试使用机器学习算法来分析数据，更好的了解用户，并为用户提供更好的服务。\n",
    "+ 医疗记录：电子医疗记录可以将医疗记录变成医学知识，帮助人们更好地理解疾病\n",
    "+ 计算生物学：因为自动化技术，生物学家们收集的大量基因数据序列、DNA序列和等等，机器运行算法让我们更好地了解人类基因组。\n",
    "+ 机械应用：无人直升机\n",
    "+ 手写识别\n",
    "+ 自然语言处理\n",
    "+ 计算机视觉、图像理解\n",
    "+ 自定制程序\n",
    "\n",
    "在这门课中，你还讲学习到关于机器学习的前沿状况。因为事实上只了解算法、数学并不能解决你关心的实际的问题。"
   ]
  },
  {
   "cell_type": "code",
   "execution_count": null,
   "metadata": {},
   "outputs": [],
   "source": []
  }
 ],
 "metadata": {
  "kernelspec": {
   "display_name": "Python 3",
   "language": "python",
   "name": "python3"
  },
  "language_info": {
   "codemirror_mode": {
    "name": "ipython",
    "version": 3
   },
   "file_extension": ".py",
   "mimetype": "text/x-python",
   "name": "python",
   "nbconvert_exporter": "python",
   "pygments_lexer": "ipython3",
   "version": "3.6.7"
  }
 },
 "nbformat": 4,
 "nbformat_minor": 2
}
