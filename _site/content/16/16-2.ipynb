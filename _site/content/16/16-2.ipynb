{
 "cells": [
  {
   "cell_type": "markdown",
   "metadata": {},
   "source": [
    "### 随机梯度下降"
   ]
  },
  {
   "cell_type": "markdown",
   "metadata": {},
   "source": [
    "如果我们一定需要一个大规模的训练集，我们可以尝试使用随机梯度下降法来代替批量梯度下降法。 \n",
    "\n",
    "在随机梯度下降法中，我们定义代价函数为一个单一训练实例的代价： \n",
    "$$ cost(\\theta, (x^{(i)},y^{(i)})) =  \\frac{1}{2}(h_\\theta(x^{(i)})-y^{(i)})^2$$\n",
    "\n",
    "随机梯度下降算法为：首先对训练集随机“洗牌”，然后： \n",
    " \n",
    " ![](https://i.loli.net/2018/12/02/5c031af323148.png)\n",
    " \n",
    "随机梯度下降算法在每一次计算之后便更新参数 θ，而不需要首先将所有的训练集求和，在梯度下降算法还没有完成一次迭代时，随机梯度下降算法便已经走出了很远。但是这样的算法存在的问题是，不是每一步都是朝着”正确”的方向迈出的。因此算法虽然会逐渐走向全局最小值的位置，但是可能无法站到那个最小值的那一点，而是在最小值点附近徘徊。\n",
    "\n",
    "![](https://i.loli.net/2018/12/02/5c031b16b2ae2.png)"
   ]
  }
 ],
 "metadata": {
  "kernelspec": {
   "display_name": "Python 3",
   "language": "python",
   "name": "python3"
  },
  "language_info": {
   "codemirror_mode": {
    "name": "ipython",
    "version": 3
   },
   "file_extension": ".py",
   "mimetype": "text/x-python",
   "name": "python",
   "nbconvert_exporter": "python",
   "pygments_lexer": "ipython3",
   "version": "3.6.7"
  }
 },
 "nbformat": 4,
 "nbformat_minor": 2
}
