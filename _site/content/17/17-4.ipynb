{
 "cells": [
  {
   "cell_type": "markdown",
   "metadata": {},
   "source": [
    "### 上限分析"
   ]
  },
  {
   "cell_type": "markdown",
   "metadata": {},
   "source": [
    "+ 上限分析：机器学习的一个应用中，哪一部分最值得花时间和精力去改善"
   ]
  },
  {
   "cell_type": "markdown",
   "metadata": {},
   "source": [
    "**上限分析**\n",
    "\n",
    "回到我们的文字识别应用中，我们的流程图如下：\n",
    "\n",
    "![](https://i.loli.net/2018/12/02/5c0321ba010d5.png)\n",
    "\n",
    "流程图中每一部分的输出都是下一部分的输入。\n",
    "\n",
    "上限分析中，我们选取一部分，手工提供100%正确的输出结果，然后看应用的整体效果提升了多少。\n",
    "\n",
    "假使我们的例子中总体效果为 72%的正确率。    \n",
    "\n",
    "如果我们令文字侦测部分输出的结果 100%正确，发现系统的总体效果从 72%提高到了 \n",
    "89%。这意味着我们很可能会希望投入时间精力来提高我们的文字侦测部分。 \n",
    "\n",
    "接着令字符切分输出的结果 100%正确，发现系统的总体效果只提升了 1%，这意味着，我们的字符切分部分可能已经足够好了。 \n",
    "\n",
    "最后我们手工选择数据，让字符分类输出的结果 100%正确，系统的总体效果又提升了 \n",
    "10%，这意味着我们可能也会应该投入更多的时间和精力来提高应用的总体表现。\n",
    "\n",
    "![](https://i.loli.net/2018/12/02/5c0325ce807ef.png)"
   ]
  }
 ],
 "metadata": {
  "kernelspec": {
   "display_name": "Python 3",
   "language": "python",
   "name": "python3"
  },
  "language_info": {
   "codemirror_mode": {
    "name": "ipython",
    "version": 3
   },
   "file_extension": ".py",
   "mimetype": "text/x-python",
   "name": "python",
   "nbconvert_exporter": "python",
   "pygments_lexer": "ipython3",
   "version": "3.6.7"
  }
 },
 "nbformat": 4,
 "nbformat_minor": 2
}
