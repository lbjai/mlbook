{
 "cells": [
  {
   "cell_type": "markdown",
   "metadata": {},
   "source": [
    "### 随机初始化 II"
   ]
  },
  {
   "cell_type": "markdown",
   "metadata": {},
   "source": [
    "**随机初始化聚类中心点**\n",
    "\n",
    "随机初始化所有的聚类中心点的做法：\n",
    "1. 我们应该选择 K<m，即聚类中心点的个数要小于所有训练集实例的数量 \n",
    "2. 随机选择 K 个训练实例，然后令 K 个聚类中心分别与这 K 个训练实例相等 \n",
    "\n",
    "K-均值的一个问题在于，它有可能会停留在一个局部最小值处，而这取决于初始化的情况。 \n",
    " "
   ]
  },
  {
   "cell_type": "markdown",
   "metadata": {},
   "source": [
    "![](https://i.loli.net/2018/12/02/5c02c4153614f.png)\n",
    "\n",
    "为了解决这个问题，通常需要多次运行 K-均值算法，每一次都重新进行随机初始化，最后再比较多次运行 K-均值的结果，选择代价函数最小的结果。这种方法在 k 较小的时候（2--10）还是可行的，但是如果 k 较大，这么做也可能不会有明显地改善。"
   ]
  }
 ],
 "metadata": {
  "kernelspec": {
   "display_name": "Python 3",
   "language": "python",
   "name": "python3"
  },
  "language_info": {
   "codemirror_mode": {
    "name": "ipython",
    "version": 3
   },
   "file_extension": ".py",
   "mimetype": "text/x-python",
   "name": "python",
   "nbconvert_exporter": "python",
   "pygments_lexer": "ipython3",
   "version": "3.6.7"
  }
 },
 "nbformat": 4,
 "nbformat_minor": 2
}
