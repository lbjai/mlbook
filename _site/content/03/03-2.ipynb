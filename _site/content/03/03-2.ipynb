{
 "cells": [
  {
   "cell_type": "markdown",
   "metadata": {},
   "source": [
    "### 加法与标量乘法"
   ]
  },
  {
   "cell_type": "markdown",
   "metadata": {},
   "source": [
    "**矩阵的加法**\n",
    "\n",
    "行列数相等的才可以做加法，两个矩阵相加就是行列对应的元素相加。 \n"
   ]
  },
  {
   "cell_type": "markdown",
   "metadata": {},
   "source": [
    "我们看这个例子\n",
    "\n",
    "![](https://i.loli.net/2018/11/30/5c00da9cdc9ed.png)\n"
   ]
  },
  {
   "cell_type": "markdown",
   "metadata": {},
   "source": [
    "**牛刀小试**"
   ]
  },
  {
   "cell_type": "code",
   "execution_count": 2,
   "metadata": {},
   "outputs": [
    {
     "name": "stdout",
     "output_type": "stream",
     "text": [
      "a: \n",
      " [[1 0]\n",
      " [2 5]\n",
      " [3 1]] \n",
      "b: \n",
      " [[4.  0.5]\n",
      " [2.  5. ]\n",
      " [0.  1. ]]\n",
      "a+b: \n",
      " [[ 5.   0.5]\n",
      " [ 4.  10. ]\n",
      " [ 3.   2. ]]\n",
      "a-b:\n",
      " [[-3.  -0.5]\n",
      " [ 0.   0. ]\n",
      " [ 3.   0. ]]\n"
     ]
    }
   ],
   "source": [
    "import numpy as np\n",
    "a = np.mat([[1,0],[2,5],[3,1]])\n",
    "b = np.mat([[4,0.5],[2,5],[0,1]])\n",
    "print (\"a: \\n\",a, \"\\nb: \\n\",b)\n",
    "print (\"a+b: \\n\",a+b)  # a + b，矩阵相加\n",
    "print(\"a-b:\\n\",a-b)  # a-b, 矩阵相减\n"
   ]
  },
  {
   "cell_type": "markdown",
   "metadata": {},
   "source": [
    "**矩阵的标量乘法**\n",
    "\n",
    "矩阵和标量的乘法也很简单,就是矩阵的每个元素都与标量相乘。\n",
    "\n",
    "![](https://i.loli.net/2018/11/30/5c00dac64c4e5.png)\n"
   ]
  },
  {
   "cell_type": "code",
   "execution_count": 3,
   "metadata": {},
   "outputs": [
    {
     "name": "stdout",
     "output_type": "stream",
     "text": [
      "a: \n",
      " [[1 0]\n",
      " [2 5]\n",
      " [3 1]]\n",
      "3*a: \n",
      " [[ 3  0]\n",
      " [ 6 15]\n",
      " [ 9  3]]\n"
     ]
    }
   ],
   "source": [
    "print (\"a: \\n\",a)\n",
    "print (\"3*a: \\n\",3* a)  #矩阵标量乘法\n"
   ]
  }
 ],
 "metadata": {
  "kernelspec": {
   "display_name": "Python 3",
   "language": "python",
   "name": "python3"
  },
  "language_info": {
   "codemirror_mode": {
    "name": "ipython",
    "version": 3
   },
   "file_extension": ".py",
   "mimetype": "text/x-python",
   "name": "python",
   "nbconvert_exporter": "python",
   "pygments_lexer": "ipython3",
   "version": "3.6.7"
  }
 },
 "nbformat": 4,
 "nbformat_minor": 2
}
