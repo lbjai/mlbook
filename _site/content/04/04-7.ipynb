{
 "cells": [
  {
   "cell_type": "markdown",
   "metadata": {},
   "source": [
    "### 正规方程不可逆的情况"
   ]
  },
  {
   "cell_type": "markdown",
   "metadata": {},
   "source": [
    "\n",
    "+ 正规方程 ( normal equation )的不可逆情况\n",
    "+ 正规方程解的推导过程"
   ]
  },
  {
   "cell_type": "markdown",
   "metadata": {},
   "source": [
    "\n",
    "我们要讲的问题如下：     \n",
    "对于$\\theta = (X^TX)^{-1}X^Ty$，当$X^TX$不可逆时该怎么办？\n",
    " \n",
    "1. $X^TX$不可逆很少发生。 \n",
    "在Octave里，可逆矩阵求解逆使用inv()，不可逆矩阵求解伪逆使用pinv()。\n",
    "  \n",
    "2. 使用大量的特征值的情况下，可能会导致矩阵$X^TX$的结果是不可逆的。     \n",
    "具体地说，在 m 小于或等于 n 的时候，例如，有 m 等于 10 个的训练样本也有 n 等于100 的特征数量。要找到适合的 ( n +1 ) 维参数矢量$\\theta$ ，这将会变成一个 101 维的矢量，尝试从 10 个训练样本中找到满足 101 个参数的值，这工作可能会让你花上一阵子时间，但这并不总是一个好主意。因为，正如我们所看到你只有 10 个样本，以适应这 100 或 101 个参数，数据还是有些少。 稍后我们将看到，如何使用小数据样本以得到这 100 或 101 个参数，通常，我们会使用一种叫做正则化的线性代数方法，通过删除某些特征或者是使用某些技术，来解决当 m 比n 小的时候的问题。即使你有一个相对较小的训练集，也可使用很多的特征来找到很多合适的参数。 \n",
    "\n",
    "解决方法：\n",
    "\n",
    "![](http://imgbed.momodel.cn/5cc1a0b6e3067ce9b6abf767.jpg)\n",
    "\n",
    "\n",
    "1. 看特征值里是否有一些多余的特征，像这些 $x_1$和$x_2$是线性相关的，互为线性函数。删除重复的特征将解决不可逆性的问题。如果特征数量实在太多，可以删除些用较少的特征来反映尽可能多内容，或者考虑使用正则化方法。 \n",
    "\n",
    "2. 如果矩阵$X^TX$是不可逆的，（通常来说，不会出现这种情况），如果在 Octave 里，可以用伪逆函数 pinv ( ) 来实现。即使 X'X 的结果是不可逆的，但算法执行的流程是正确的。\n",
    "\n",
    "总之，出现不可逆矩阵的情况极少发生，所以在大多数实现线性回归中，不应该过多的关注$X^TX$不可逆。\n",
    "\n",
    "\n",
    "**正规方程解的推导过程**\n",
    "\n",
    "$\\theta = (X^TX)^{-1}X^Ty$ 的推导过程：\n",
    "$$J(\\theta_{0}, \\theta_{1}...\\theta_{n}) = \\frac{1}{2m}\\sum_{i=1}^m(h_{\\theta}(x^{(i)})-y^{(i)})^{2}$$\n",
    "其中： $$h_{\\theta}(x) = \\theta^TX = \\theta_{0}x_{0} + \\theta_{1}x_{1} + \\theta_{2}x_{2} + ...  + \\theta_{n}x_{n}$$ \n",
    "将向量表达形式转为矩阵表达形式，则有$J(\\theta) = \\frac{1}{2}(X\\theta - y)^{2}$，其中 X 为$m*n$的矩阵（m为样本个数，n为特征个数），$\\theta$为$n*1$的矩阵，y 为$m*1$的矩阵，对$J(\\theta)$进行如下变换: \n",
    "\n",
    "![](https://i.loli.net/2018/11/30/5c0118014843d.png)\n",
    "\n",
    "接下来对$J(\\theta)$偏导，需要用到以下几个矩阵的求导法则: \n",
    "$$\\frac{dAB}{dB} = A^T $$\n",
    "$$\\frac{dX^TAX}{dX} = 2AX     (a)$$\n",
    "对于（a）式：由于： $X^TAX = AX^2$ ，所以其导数为2AX 。 \n",
    "所以有: \n",
    "\n",
    "![](https://i.loli.net/2018/11/30/5c011aabedf2a.png)\n"
   ]
  },
  {
   "cell_type": "code",
   "execution_count": null,
   "metadata": {},
   "outputs": [],
   "source": []
  }
 ],
 "metadata": {
  "kernelspec": {
   "display_name": "Python 3",
   "language": "python",
   "name": "python3"
  },
  "language_info": {
   "codemirror_mode": {
    "name": "ipython",
    "version": 3
   },
   "file_extension": ".py",
   "mimetype": "text/x-python",
   "name": "python",
   "nbconvert_exporter": "python",
   "pygments_lexer": "ipython3",
   "version": "3.6.7"
  }
 },
 "nbformat": 4,
 "nbformat_minor": 2
}
