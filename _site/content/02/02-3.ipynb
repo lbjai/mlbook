{
 "cells": [
  {
   "cell_type": "markdown",
   "metadata": {},
   "source": [
    "### 理解代价函数"
   ]
  },
  {
   "cell_type": "markdown",
   "metadata": {},
   "source": [
    "**代价函数的直观理解 I**\n",
    "\n",
    "**本节强烈建议观看视频理解，以下仅列出关键步骤。**\n",
    "\n",
    "回顾上文，我们已经得到了单线性回归的模型：\n",
    "\n",
    "hypothesis(假设):    \n",
    "         $h_{0}(x) = \\theta_{0} + \\theta_{1}x$     \n",
    "\n",
    "parameters（参数）:      \n",
    "$\\theta_{0}$ , $\\theta_{1}$   \n",
    "通过选择不同的参数,会得到不同的直线拟合.\n",
    "\n",
    "Cost Function(代价函数）:     \n",
    "$J(\\theta_{0}, \\theta_{1}) = \\frac{1}{2m}\\sum_{i=1}^m(h_{0}(x^{(i)})-y^{(i)})^{2}$\n",
    "\n",
    "Goal:     \n",
    "$minimize_{\\theta_{0},\\theta_{1}}J(\\theta_{0}, \\theta_{1})$   \n",
    "我们的优化目标是,最小化代价函数\n",
    "\n",
    "为理解方便，本节讲解中将h函数简化为$h_{0}(x) =\\theta_{1}x$，即设$\\theta_{0}=0$\n",
    "\n",
    "首先明确一个概念：\n",
    "+ 在假设h中，$\\theta_{1}$是一个固定的参数，只有$x$才是自变量。因变量为预测值 $h_{0}(x)$\n",
    "+ 在优化函数$J(\\theta)$中，$\\theta_{1}$是自变量，因变量为预测值$h_{0}(x)$与真实值$y$的误差$J(\\theta)$\n"
   ]
  },
  {
   "cell_type": "markdown",
   "metadata": {},
   "source": [
    "从这里开始,用实例来说明,不同的 $\\theta_{1}$ , 代价函数的值.建议查看视频**理解代价函数**"
   ]
  },
  {
   "cell_type": "markdown",
   "metadata": {},
   "source": [
    "由此我们可以画出假设h和优化函数$J(\\theta)$对应的函数图像。\n",
    "\n",
    "![](https://i.loli.net/2018/12/04/5c0652fe1637f.png)\n"
   ]
  },
  {
   "cell_type": "markdown",
   "metadata": {},
   "source": [
    "**牛刀小试**\n",
    "\n",
    "Todo: 当 $\\theta_{1}$ 是 0 的时候, $J(\\theta)$ 的值是多少?\n"
   ]
  },
  {
   "cell_type": "markdown",
   "metadata": {},
   "source": [
    "<span class='md-hint-alone-link pop 0'>查看答案</span>"
   ]
  }
 ],
 "metadata": {
  "kernelspec": {
   "display_name": "Python 3",
   "language": "python",
   "name": "python3"
  },
  "language_info": {
   "codemirror_mode": {
    "name": "ipython",
    "version": 3
   },
   "file_extension": ".py",
   "mimetype": "text/x-python",
   "name": "python",
   "nbconvert_exporter": "python",
   "pygments_lexer": "ipython3",
   "version": "3.6.7"
  }
 },
 "nbformat": 4,
 "nbformat_minor": 2
}
