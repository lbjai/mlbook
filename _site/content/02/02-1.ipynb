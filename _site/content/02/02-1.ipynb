{
 "cells": [
  {
   "cell_type": "markdown",
   "metadata": {},
   "source": [
    "### 模型表示"
   ]
  },
  {
   "cell_type": "markdown",
   "metadata": {},
   "source": [
    "**这一节我们主要学习以下内容**\n",
    "\n",
    "+ 单变量线性回归(Linear Regression with One Variable) 模型表示\n",
    "+ 监督学习的完整流程\n",
    "+ 单变量线性回归的假设函数建模"
   ]
  },
  {
   "cell_type": "markdown",
   "metadata": {},
   "source": [
    "**单变量线性回归 模型表示**\n",
    "\n",
    "**模型表示**\n",
    "\n",
    "让我们通过一个例子来开始：        \n",
    "+ 数据集: 俄勒冈州波特兰市的住房价格（面积，价格）。   \n",
    "+ 问题：构建一个预测住房价格的模型，告知面积，给出最可能的售价。  \n",
    "\n",
    "![](https://i.loli.net/2018/11/29/5bfff6aa4b934.png)\n",
    "\n",
    "它是一个典型的监督学习模型。因为对于每个数据，我们都给出了“**正确的答案**”，即告诉我们：根据我们的数据来说，房子实际的价格是多少，更具体来说，这是一个**回归**问题。\n",
    "\n",
    "**回归**一词指的是，我们根据之前的数据预测出一个准确的输出值，对于这个例子就是价格。\n",
    "\n",
    "在监督学习中我们有一个数据集，这个数据集被称**训练集**。\n",
    "\n",
    "**整个课程中会小写的 m 来表示训练样本的数目。 **\n",
    "\n",
    "以之前的房屋交易问题为例，假使我们回归问题的训练集（Training Set）如下表所示：\n",
    " \n",
    "![](https://i.loli.net/2018/11/29/5bfffab31b97a.png)\n",
    "\n",
    "这个回归问题的标记如下: \n",
    "> $m$ 代表训练集中实例的数量      \n",
    "> $x$ 代表特征/输入变量      \n",
    "> $y$ 代表目标变量/输出变量      \n",
    "> $(x^{(i)},y^{(i)})$ 代表训练集中的第i个实例      \n",
    "> $h$ 代表学习算法的解决方案或函数也称为假设（hypothesis）      "
   ]
  },
  {
   "cell_type": "markdown",
   "metadata": {},
   "source": [
    "**监督学习的完整流程**\n",
    "\n",
    "**模型表示**\n",
    "\n",
    "![](https://i.loli.net/2018/11/29/5bfffb077ef62.png)\n",
    "\n",
    "这就是一个监督学习算法的工作方式。这里有训练集，把它喂给学习算法，学习算法工作，然后输出一个函数，通常表示为小写$h$（hypothesis，假设）。$h$表示一个函数，输入是房屋尺寸大小$x$，得到的输出值为$y$，对应房子的价格。因此，$h$是一个从x到y的函数映射。 \n"
   ]
  },
  {
   "cell_type": "markdown",
   "metadata": {},
   "source": [
    "**假设函数的建模**\n",
    "\n",
    "**模型表示**\n",
    "\n",
    "对于上述房价预测问题，我们该如何表达h？ \n",
    "\n",
    " 一种可能的表达方式为： \n",
    " $$h_{\\theta}(x) = \\theta_{0} + \\theta_{1}x$$ \n",
    " 因为只含有一个特征/输入变量，因此这样的问题叫作**单变量线性回归问题**。 "
   ]
  },
  {
   "cell_type": "code",
   "execution_count": null,
   "metadata": {},
   "outputs": [],
   "source": []
  }
 ],
 "metadata": {
  "kernelspec": {
   "display_name": "Python 3",
   "language": "python",
   "name": "python3"
  },
  "language_info": {
   "codemirror_mode": {
    "name": "ipython",
    "version": 3
   },
   "file_extension": ".py",
   "mimetype": "text/x-python",
   "name": "python",
   "nbconvert_exporter": "python",
   "pygments_lexer": "ipython3",
   "version": "3.6.7"
  }
 },
 "nbformat": 4,
 "nbformat_minor": 2
}
