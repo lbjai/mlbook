{
 "cells": [
  {
   "cell_type": "markdown",
   "metadata": {},
   "source": [
    "### 模型表示实例 II"
   ]
  },
  {
   "cell_type": "markdown",
   "metadata": {},
   "source": [
    "+ 单层神经网络组成二元逻辑运算符"
   ]
  },
  {
   "cell_type": "markdown",
   "metadata": {},
   "source": [
    "**逻辑非（NOT）** \n",
    "\n",
    "下图的神经元（两个权重分别为 10，-20）可以被视为作用等同于逻辑非（NOT）： \n",
    "\n",
    "![](https://i.loli.net/2018/12/01/5c02069fc3ebb.png)\n"
   ]
  },
  {
   "cell_type": "markdown",
   "metadata": {},
   "source": [
    "**二元逻辑运算符（BINARY LOGICAL OPERATORS）**  \n",
    "\n",
    "当输入特征为布尔值（0 或 1）时，我们可以用一个单一的激活层可以作为二元逻辑运算符，表示不同的运算符只需要选择不同的权重即可。\n",
    "\n",
    "1. 逻辑与（AND）\n",
    "下图的神经元（三个权重分别为-30，20，20）可以被视为作用同于逻辑与（AND）： \n",
    "\n",
    "![](https://i.loli.net/2018/12/01/5c0206bd9ef8d.png)\n",
    " \n",
    "2. 逻辑或（OR）\n",
    "下图的神经元（三个权重分别为-10，20，20）可以被视为作用等同于逻辑或（OR）： \n",
    " \n",
    " ![](https://i.loli.net/2018/12/01/5c0206dfa3a0f.png)\n",
    " \n",
    "3. 逻辑异或（XOR）\n",
    "下图的神经元（三个权重分别为10，-20，-20）可以被视为作用等同于逻辑异或（XOR）： \n",
    "\n",
    "![](https://i.loli.net/2018/12/01/5c020c9832bef.png)"
   ]
  },
  {
   "cell_type": "markdown",
   "metadata": {},
   "source": [
    "**实现更复杂的运算**   \n",
    "\n",
    "例如：实现 XNOR 功能（输入的两个值必须一样，均为 1 或均为 0），即: \n",
    "\n",
    "$$XNOR = (x_1 AND x_2)OR((NOT x_1)AND(NOT x_2))$$ \n",
    "\n",
    "第二层实现AND 和XOR ，第三层实现OR：\n",
    "\n",
    "![](https://i.loli.net/2018/12/01/5c020d63e9e51.png)\n",
    "\n",
    " \n",
    "我们就得到了一个能实现 XNOR 运算符功能的神经网络。 \n",
    "\n",
    "按这种方法我们可以逐渐构造出越来越复杂的函数，也能得到更加厉害的特征值。\n",
    "\n",
    "### 手写数字识别的视频实例\n",
    "\n",
    "**此处为视频演示，请观看视频教程** \n",
    "\n",
    "![](https://i.loli.net/2018/12/01/5c020f1be3537.png)\n",
    "\n",
    "这就是神经网络的厉害之处。"
   ]
  }
 ],
 "metadata": {
  "kernelspec": {
   "display_name": "Python 3",
   "language": "python",
   "name": "python3"
  },
  "language_info": {
   "codemirror_mode": {
    "name": "ipython",
    "version": 3
   },
   "file_extension": ".py",
   "mimetype": "text/x-python",
   "name": "python",
   "nbconvert_exporter": "python",
   "pygments_lexer": "ipython3",
   "version": "3.6.7"
  }
 },
 "nbformat": 4,
 "nbformat_minor": 2
}
