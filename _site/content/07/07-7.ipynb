{
 "cells": [
  {
   "cell_type": "markdown",
   "metadata": {},
   "source": [
    "### 多分类任务"
   ]
  },
  {
   "cell_type": "markdown",
   "metadata": {},
   "source": [
    "\n",
    "+ 多分类神经网络"
   ]
  },
  {
   "cell_type": "markdown",
   "metadata": {},
   "source": [
    "**多分类神经网络** \n",
    "\n",
    "如果我们要训练一个神经网络算法来识别路人、汽车、摩托车和卡车，在输出层我们应该有 4 个值。例如，第一个值为 1 或 0 用于预测是否是行人，第二个值用于判断是否为汽车。 输入向量 x 有三个维度，两个中间层，输出层 4 个神经元分别用来表示 4 类，也就是每一个数据在输出层都会出现$[a,b,c,d]^T$ ，且 a,b,c,d 中仅有一个为 1，表示当前类。下面是该神经网络的可能结构示例： \n",
    "\n",
    "![](https://i.loli.net/2018/12/01/5c020faa3901b.png)\n",
    "\n",
    "训练集的形式如下，注意使用one-hot方式表示y：\n",
    "\n",
    "![](https://i.loli.net/2018/12/01/5c02104444b31.png)\n"
   ]
  },
  {
   "cell_type": "markdown",
   "metadata": {},
   "source": [
    "### 补充说明\n",
    "分类问题的Label（即y）编码问题：\n",
    "\n",
    "one-hot的基本思想：将离散型特征的每一种取值都看成一种状态，若你的这一特征中有N个不相同的取值，那么我们就可以将该特征抽象成N种不同的状态，one-hot编码保证了每一个取值只会使得一种状态处于“激活态”，也就是说这N种状态中只有一个状态位值为1，其他状态位都是0。\n",
    "\n",
    "如果分类问题有四个结果，    \n",
    "我们不会将y的取值为：0，1，2，3\n",
    "而是会将y表示为一个1*4的向量，如上图。\n",
    "\n"
   ]
  },
  {
   "cell_type": "markdown",
   "metadata": {},
   "source": [
    "**牛刀小试**\n",
    "\n",
    "**实现one-hot编码函数**"
   ]
  },
  {
   "cell_type": "code",
   "execution_count": 1,
   "metadata": {},
   "outputs": [
    {
     "name": "stderr",
     "output_type": "stream",
     "text": [
      "100%|██████████████████████████████████████████████████████████████████████████████████| 7/7 [00:00<00:00, 7651.84it/s]\n"
     ]
    },
    {
     "data": {
      "text/plain": [
       "array([[1., 0., 0., 0., 0.],\n",
       "       [0., 1., 0., 0., 0.],\n",
       "       [0., 0., 1., 0., 0.],\n",
       "       [0., 0., 0., 1., 0.],\n",
       "       [0., 0., 0., 0., 1.],\n",
       "       [1., 0., 0., 0., 0.],\n",
       "       [0., 1., 0., 0., 0.]])"
      ]
     },
     "execution_count": 1,
     "metadata": {},
     "output_type": "execute_result"
    }
   ],
   "source": [
    "import numpy as np\n",
    "import tqdm\n",
    "def onehot(x):\n",
    "    unique_values = list(set(x))\n",
    "    number_of_dimension = len(unique_values)\n",
    "    onehot_features = np.zeros(shape=(len(x), number_of_dimension))\n",
    "    for row in tqdm.tqdm(range(len(x))):\n",
    "        onehot_features[row, unique_values.index(x[row])] = 1\n",
    "    return onehot_features\n",
    "\n",
    "y = np.array([1, 2, 3, 4, 5, 1, 2])\n",
    "onehot(y)"
   ]
  }
 ],
 "metadata": {
  "kernelspec": {
   "display_name": "Python 3",
   "language": "python",
   "name": "python3"
  },
  "language_info": {
   "codemirror_mode": {
    "name": "ipython",
    "version": 3
   },
   "file_extension": ".py",
   "mimetype": "text/x-python",
   "name": "python",
   "nbconvert_exporter": "python",
   "pygments_lexer": "ipython3",
   "version": "3.6.7"
  }
 },
 "nbformat": 4,
 "nbformat_minor": 2
}
