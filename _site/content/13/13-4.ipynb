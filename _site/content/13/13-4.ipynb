{
 "cells": [
  {
   "cell_type": "markdown",
   "metadata": {},
   "source": [
    "### 主成分分析算法"
   ]
  },
  {
   "cell_type": "markdown",
   "metadata": {},
   "source": [
    "+ PCA的数学实现"
   ]
  },
  {
   "cell_type": "markdown",
   "metadata": {},
   "source": [
    "**主成分分析算法** \n",
    "\n",
    "PCA 减少 n 维到 k 维： \n",
    "\n",
    "第一步是均值归一化。计算出所有特征的均值，然后令$x_j=x_j-\\mu_j$。如果特征是在不同的数量级上，我们还需要将其除以标准差 $\\sigma^2$。\n",
    "\n",
    "第二步是计算**协方差矩阵（covariance matrix）Σ**：\n",
    "$$\\sum = \\frac{1}{m}\\sum^n_{i=1}(x^{(i)})(x^{(i)})^T$$\n",
    "\n",
    "第三步是计算协方差矩阵 Σ 的**特征向量（eigenvectors）**: \n",
    "可以利用**奇异值分解（singular value decomposition）**来求解，[U, S, V]= svd(sigma)。 \n",
    "\n",
    "![](https://i.loli.net/2018/12/02/5c02cbe0a3790.png)\n",
    "\n",
    "对于一个 n×n 维度的矩阵，上式中的 U 是一个具有与数据之间最小投射误差的方向向量构成的矩阵。如果我们希望将数据从 n 维降至 k 维，我们只需要从 U 中选取前 K 个向量，获得一个 n×k 维度的矩阵，我们用 $U_{reduce}$表示，然后通过如下计算获得要求的新特征向量$z^{(i)}$:\n",
    "$$z^{(i)} = U^T_{reduce}\\times{x^{(i)}}$$\n",
    " \n",
    "其中 x 是 n×1 维的，因此结果为 k×1 维度。注，我们不对方差特征进行处理。 "
   ]
  },
  {
   "cell_type": "markdown",
   "metadata": {},
   "source": [
    "**牛刀小试**\n",
    "\n",
    "**我们来实现PCA算法**"
   ]
  },
  {
   "cell_type": "code",
   "execution_count": 1,
   "metadata": {},
   "outputs": [],
   "source": [
    "import numpy as np\n",
    "\n",
    "def covariance_matrix(X):\n",
    "    \"\"\"\n",
    "    Args:\n",
    "        X (ndarray) (m, n)\n",
    "    Return:\n",
    "        cov_mat (ndarray) (n, n):\n",
    "            covariance matrix of X\n",
    "    \"\"\"\n",
    "    m = X.shape[0]\n",
    "\n",
    "    return (X.T @ X) / m\n",
    "\n",
    "\n",
    "def normalize(X):\n",
    "    \"\"\"\n",
    "        for each column, X-mean / std\n",
    "    \"\"\"\n",
    "    X_copy = X.copy()\n",
    "    m, n = X_copy.shape\n",
    "\n",
    "    for col in range(n):\n",
    "        X_copy[:, col] = (X_copy[:, col] - X_copy[:, col].mean()) / X_copy[:, col].std()\n",
    "\n",
    "    return X_copy\n"
   ]
  },
  {
   "cell_type": "code",
   "execution_count": 2,
   "metadata": {},
   "outputs": [],
   "source": [
    "def pca(x, keep_dims=None):\n",
    "    if not keep_dims:\n",
    "        keep_dims = x.shape[1] - 1\n",
    "    # todo 进行归一化\n",
    "    normalize_x = normalize(x)\n",
    "    # todo 求出协方差矩阵\n",
    "    cov_x = covariance_matrix(x)\n",
    "    # todo 奇异值分解\n",
    "    U, S, V = np.linalg.svd(cov_x)  # U: principle components (n, n)\n",
    "    # todo 选取前 keep_dims 维特征\n",
    "    reduction = U[:, :keep_dims]\n",
    "    # todo 得到降维的结果\n",
    "    return np.matmul(x, reduction)"
   ]
  },
  {
   "cell_type": "code",
   "execution_count": 3,
   "metadata": {},
   "outputs": [
    {
     "data": {
      "text/plain": [
       "(10, 9)"
      ]
     },
     "execution_count": 3,
     "metadata": {},
     "output_type": "execute_result"
    }
   ],
   "source": [
    "x = np.random.uniform(size=(10, 10))\n",
    "pca(x).shape\n"
   ]
  }
 ],
 "metadata": {
  "kernelspec": {
   "display_name": "Python 3",
   "language": "python",
   "name": "python3"
  },
  "language_info": {
   "codemirror_mode": {
    "name": "ipython",
    "version": 3
   },
   "file_extension": ".py",
   "mimetype": "text/x-python",
   "name": "python",
   "nbconvert_exporter": "python",
   "pygments_lexer": "ipython3",
   "version": "3.6.7"
  }
 },
 "nbformat": 4,
 "nbformat_minor": 2
}
