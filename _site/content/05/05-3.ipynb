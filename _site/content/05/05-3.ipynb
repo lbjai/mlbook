{
 "cells": [
  {
   "cell_type": "markdown",
   "metadata": {},
   "source": [
    "### 决策边界"
   ]
  },
  {
   "cell_type": "markdown",
   "metadata": {},
   "source": [
    "逻辑回归模型中：\n",
    "\n",
    "![](https://i.loli.net/2018/12/01/5c018c289c8df.png)\n",
    "\n",
    "我们预测： \n",
    "当 $h_\\theta(x)$大于等于 0.5 时，预测 y=1。 \n",
    "当$h_\\theta(x)$小于 0.5 时，预测 y=0 。 \n",
    "\n",
    "根据上面绘制出的 S 形函数图像，我们知道当\n",
    "\n",
    "z=0 时 g(z)=0.5     \n",
    "z>0 时 g(z)>0.5      \n",
    "z<0 时 g(z)<0.5 \n",
    "\n",
    "又$z=\\theta^Tx$ ，即：     \n",
    "$\\theta^Tx$大于等于 0 时，预测 y=1     \n",
    "$\\theta^Tx$小于 0 时，预测 y=0     \n",
    "\n",
    "现在假设我们有一个模型：  "
   ]
  },
  {
   "cell_type": "markdown",
   "metadata": {},
   "source": [
    "![](https://i.loli.net/2018/12/01/5c018ce77c782.png)\n",
    "\n",
    "并且参数$\\theta$是向量[-3 1 1]。 则当$-3 + x_1 + x_2$大于等于 0，将预测 y=1。 \n",
    "\n",
    "我们可以绘制直线$x_1+x_2 = 3$，这条线便是我们模型的分界线，将预测为 1 的区域和预\n",
    "测为 0 的区域分隔开。 \n",
    "\n",
    "![](https://i.loli.net/2018/12/01/5c018d67b9d78.png)\n",
    " "
   ]
  },
  {
   "cell_type": "markdown",
   "metadata": {},
   "source": [
    "假使我们的数据呈现这样的分布情况，怎样的模型才能适合呢？ \n",
    "\n",
    "![](https://i.loli.net/2018/12/01/5c018d8ef3388.png)\n"
   ]
  },
  {
   "cell_type": "markdown",
   "metadata": {},
   "source": [
    "**牛刀小试**\n",
    "\n",
    "Todo: 想一想,可以通过构造什么特征来分隔开上图的两类数据呢?"
   ]
  },
  {
   "cell_type": "markdown",
   "metadata": {},
   "source": [
    "答：可以构造二次方特征\n"
   ]
  }
 ],
 "metadata": {
  "kernelspec": {
   "display_name": "Python 3",
   "language": "python",
   "name": "python3"
  },
  "language_info": {
   "codemirror_mode": {
    "name": "ipython",
    "version": 3
   },
   "file_extension": ".py",
   "mimetype": "text/x-python",
   "name": "python",
   "nbconvert_exporter": "python",
   "pygments_lexer": "ipython3",
   "version": "3.6.7"
  }
 },
 "nbformat": 4,
 "nbformat_minor": 2
}
