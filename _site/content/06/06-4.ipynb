{
 "cells": [
  {
   "cell_type": "markdown",
   "metadata": {},
   "source": [
    "### 正则化与逻辑回归"
   ]
  },
  {
   "cell_type": "markdown",
   "metadata": {},
   "source": [
    "针对逻辑回归问题，我们在之前的课程已经学习过两种优化算法：梯度下降法，更高级的优化算法需要你自己设计代价函数$J(\\theta)$。 \n",
    " \n",
    "给代价函数增加一个正则化的表达式，得到代价函数:\n",
    "$$\n",
    "    J(\\theta) = \\frac{1}{m}\\sum^m_{i=1}[-y^{(i)}log(h_\\theta(x^{(i)}))-(1-y^{(i)}log(1-h_\\theta(x^{(i)}))]+\\frac{\\lambda}{2m}\\sum_{j=1}^n\\theta^2_j\n",
    "$$"
   ]
  },
  {
   "cell_type": "markdown",
   "metadata": {},
   "source": [
    "**牛刀小试**"
   ]
  },
  {
   "cell_type": "code",
   "execution_count": 1,
   "metadata": {},
   "outputs": [],
   "source": [
    "def sigmoid(x, derivative=False):\n",
    "    sigm = 1. / (1. + np.exp(-x))\n",
    "    if derivative:\n",
    "        return sigm * (1. - sigm)\n",
    "    return sigm\n",
    "\n",
    "# 代码实现\n",
    "import numpy as np\n",
    "def costReg(theta, X, y, learningRate):\n",
    "    theta = np.matrix(theta)\n",
    "    X = np.matrix(X)\n",
    "    y = np.matrix(y)\n",
    "    # todo 实现代价函数第一部分的计算\n",
    "    first = np.multiply(-y, np.log(sigmoid(X * theta.T))) \n",
    "    # todo 实现代价函数第二部分的计算\n",
    "    second = np.multiply((1 - y), np.log(1 - sigmoid(X * theta.T))) \n",
    "    # todo 实现代价函数正则化的计算\n",
    "    reg = (learningRate / 2 * len(X)) * np.sum(np.power(theta[:,1:theta.shape[1]], 2)) \n",
    "    return np.sum(first - second) / (len(X)) + reg\n"
   ]
  },
  {
   "cell_type": "markdown",
   "metadata": {},
   "source": [
    "![](http://imgbed.momodel.cn//20190427094457.png)\n",
    "\n",
    "\n",
    "注：看上去同线性回归一样，但是由于假设$h_\\theta(x)=g(\\theta^TX)$，所以与线性回归不同。\n",
    "\n",
    "注意： \n",
    "1. 虽然正则化的逻辑回归中的梯度下降和正则化的线性回归中的表达式看起来一样，但 由于两者的$h_\\theta(x)$不同所以还是有很大差别。 \n",
    "2. $\\theta_0$不参与其中的任何一个正则化。 \n",
    " "
   ]
  },
  {
   "cell_type": "code",
   "execution_count": null,
   "metadata": {},
   "outputs": [],
   "source": []
  }
 ],
 "metadata": {
  "kernelspec": {
   "display_name": "Python 3",
   "language": "python",
   "name": "python3"
  },
  "language_info": {
   "codemirror_mode": {
    "name": "ipython",
    "version": 3
   },
   "file_extension": ".py",
   "mimetype": "text/x-python",
   "name": "python",
   "nbconvert_exporter": "python",
   "pygments_lexer": "ipython3",
   "version": "3.6.7"
  }
 },
 "nbformat": 4,
 "nbformat_minor": 2
}
